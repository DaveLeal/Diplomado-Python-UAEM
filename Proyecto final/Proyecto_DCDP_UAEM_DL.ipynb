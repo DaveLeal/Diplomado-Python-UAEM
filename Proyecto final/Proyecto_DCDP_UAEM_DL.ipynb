{
  "nbformat": 4,
  "nbformat_minor": 0,
  "metadata": {
    "colab": {
      "provenance": [],
      "gpuType": "T4"
    },
    "kernelspec": {
      "name": "python3",
      "display_name": "Python 3"
    },
    "language_info": {
      "name": "python"
    },
    "accelerator": "GPU"
  },
  "cells": [
    {
      "cell_type": "markdown",
      "source": [
        "# **Predicción de Condiciones Óptimas para Generación Solar mediante Modelos de ML**\n",
        "\n",
        "Problema:\n",
        "Predecir si las condiciones ambientales son óptimas para máxima generación de energía solar (binario: Sí/No).\n",
        "\n",
        "Objetivo:\n",
        "Desarrollar un modelo de clasificación que, usando variables meteorológicas, prediga ventanas de alta eficiencia energética."
      ],
      "metadata": {
        "id": "P4K5ECD3znzI"
      }
    },
    {
      "cell_type": "code",
      "execution_count": 1,
      "metadata": {
        "colab": {
          "base_uri": "https://localhost:8080/",
          "height": 365
        },
        "collapsed": true,
        "id": "VZTVYE-nx25z",
        "outputId": "a556db7c-c2e1-4988-9179-fd7d858070da"
      },
      "outputs": [
        {
          "output_type": "display_data",
          "data": {
            "text/plain": [
              "            Timestamp   \"I_dir [W/m2]\"  \"I_glo[W/m2]\"   \"I_dif[W/m2]\"  \\\n",
              "0  5/7/2025, 12:10:00            801.0              1             4.0   \n",
              "1  5/7/2025, 12:00:00            810.0              1             1.0   \n",
              "2  5/7/2025, 11:50:00            798.6            978           170.4   \n",
              "3  5/7/2025, 11:40:00            812.0            974           176.8   \n",
              "4  5/7/2025, 11:30:00            823.0            962           188.9   \n",
              "\n",
              "    \"Iglo_inc[W/m2]\"   \"Indice_UV[W/m2]\"   \"Indice_UVA[W/m2]\"   \"AirTC[°C]\"  \\\n",
              "0              164.6              909.00                 0.21         63.62   \n",
              "1              168.0              912.00                 0.21         63.65   \n",
              "2              892.0                0.21                62.18         27.49   \n",
              "3              891.0                0.20                62.09         26.61   \n",
              "4              883.0                0.20                61.46         26.76   \n",
              "\n",
              "    \"HR[%]\"   \"WS[m/s]\"   \"WD[grados]\"   \"PB[mbar]\"   \"Rain[mm]\"  \n",
              "0     27.83       61.56           2.39         1.55       865.99  \n",
              "1     28.14       58.81           1.13         1.54       866.28  \n",
              "2     60.57        1.38         103.60       866.45         0.00  \n",
              "3     63.42        1.42           1.54       866.63         0.00  \n",
              "4     62.28        1.51         314.20       866.76         0.00  "
            ],
            "text/html": [
              "\n",
              "  <div id=\"df-ebc9c5c0-54b8-457c-9eb7-b0007b4ba38f\" class=\"colab-df-container\">\n",
              "    <div>\n",
              "<style scoped>\n",
              "    .dataframe tbody tr th:only-of-type {\n",
              "        vertical-align: middle;\n",
              "    }\n",
              "\n",
              "    .dataframe tbody tr th {\n",
              "        vertical-align: top;\n",
              "    }\n",
              "\n",
              "    .dataframe thead th {\n",
              "        text-align: right;\n",
              "    }\n",
              "</style>\n",
              "<table border=\"1\" class=\"dataframe\">\n",
              "  <thead>\n",
              "    <tr style=\"text-align: right;\">\n",
              "      <th></th>\n",
              "      <th>Timestamp</th>\n",
              "      <th>\"I_dir [W/m2]\"</th>\n",
              "      <th>\"I_glo[W/m2]\"</th>\n",
              "      <th>\"I_dif[W/m2]\"</th>\n",
              "      <th>\"Iglo_inc[W/m2]\"</th>\n",
              "      <th>\"Indice_UV[W/m2]\"</th>\n",
              "      <th>\"Indice_UVA[W/m2]\"</th>\n",
              "      <th>\"AirTC[°C]\"</th>\n",
              "      <th>\"HR[%]\"</th>\n",
              "      <th>\"WS[m/s]\"</th>\n",
              "      <th>\"WD[grados]\"</th>\n",
              "      <th>\"PB[mbar]\"</th>\n",
              "      <th>\"Rain[mm]\"</th>\n",
              "    </tr>\n",
              "  </thead>\n",
              "  <tbody>\n",
              "    <tr>\n",
              "      <th>0</th>\n",
              "      <td>5/7/2025, 12:10:00</td>\n",
              "      <td>801.0</td>\n",
              "      <td>1</td>\n",
              "      <td>4.0</td>\n",
              "      <td>164.6</td>\n",
              "      <td>909.00</td>\n",
              "      <td>0.21</td>\n",
              "      <td>63.62</td>\n",
              "      <td>27.83</td>\n",
              "      <td>61.56</td>\n",
              "      <td>2.39</td>\n",
              "      <td>1.55</td>\n",
              "      <td>865.99</td>\n",
              "    </tr>\n",
              "    <tr>\n",
              "      <th>1</th>\n",
              "      <td>5/7/2025, 12:00:00</td>\n",
              "      <td>810.0</td>\n",
              "      <td>1</td>\n",
              "      <td>1.0</td>\n",
              "      <td>168.0</td>\n",
              "      <td>912.00</td>\n",
              "      <td>0.21</td>\n",
              "      <td>63.65</td>\n",
              "      <td>28.14</td>\n",
              "      <td>58.81</td>\n",
              "      <td>1.13</td>\n",
              "      <td>1.54</td>\n",
              "      <td>866.28</td>\n",
              "    </tr>\n",
              "    <tr>\n",
              "      <th>2</th>\n",
              "      <td>5/7/2025, 11:50:00</td>\n",
              "      <td>798.6</td>\n",
              "      <td>978</td>\n",
              "      <td>170.4</td>\n",
              "      <td>892.0</td>\n",
              "      <td>0.21</td>\n",
              "      <td>62.18</td>\n",
              "      <td>27.49</td>\n",
              "      <td>60.57</td>\n",
              "      <td>1.38</td>\n",
              "      <td>103.60</td>\n",
              "      <td>866.45</td>\n",
              "      <td>0.00</td>\n",
              "    </tr>\n",
              "    <tr>\n",
              "      <th>3</th>\n",
              "      <td>5/7/2025, 11:40:00</td>\n",
              "      <td>812.0</td>\n",
              "      <td>974</td>\n",
              "      <td>176.8</td>\n",
              "      <td>891.0</td>\n",
              "      <td>0.20</td>\n",
              "      <td>62.09</td>\n",
              "      <td>26.61</td>\n",
              "      <td>63.42</td>\n",
              "      <td>1.42</td>\n",
              "      <td>1.54</td>\n",
              "      <td>866.63</td>\n",
              "      <td>0.00</td>\n",
              "    </tr>\n",
              "    <tr>\n",
              "      <th>4</th>\n",
              "      <td>5/7/2025, 11:30:00</td>\n",
              "      <td>823.0</td>\n",
              "      <td>962</td>\n",
              "      <td>188.9</td>\n",
              "      <td>883.0</td>\n",
              "      <td>0.20</td>\n",
              "      <td>61.46</td>\n",
              "      <td>26.76</td>\n",
              "      <td>62.28</td>\n",
              "      <td>1.51</td>\n",
              "      <td>314.20</td>\n",
              "      <td>866.76</td>\n",
              "      <td>0.00</td>\n",
              "    </tr>\n",
              "  </tbody>\n",
              "</table>\n",
              "</div>\n",
              "    <div class=\"colab-df-buttons\">\n",
              "\n",
              "  <div class=\"colab-df-container\">\n",
              "    <button class=\"colab-df-convert\" onclick=\"convertToInteractive('df-ebc9c5c0-54b8-457c-9eb7-b0007b4ba38f')\"\n",
              "            title=\"Convert this dataframe to an interactive table.\"\n",
              "            style=\"display:none;\">\n",
              "\n",
              "  <svg xmlns=\"http://www.w3.org/2000/svg\" height=\"24px\" viewBox=\"0 -960 960 960\">\n",
              "    <path d=\"M120-120v-720h720v720H120Zm60-500h600v-160H180v160Zm220 220h160v-160H400v160Zm0 220h160v-160H400v160ZM180-400h160v-160H180v160Zm440 0h160v-160H620v160ZM180-180h160v-160H180v160Zm440 0h160v-160H620v160Z\"/>\n",
              "  </svg>\n",
              "    </button>\n",
              "\n",
              "  <style>\n",
              "    .colab-df-container {\n",
              "      display:flex;\n",
              "      gap: 12px;\n",
              "    }\n",
              "\n",
              "    .colab-df-convert {\n",
              "      background-color: #E8F0FE;\n",
              "      border: none;\n",
              "      border-radius: 50%;\n",
              "      cursor: pointer;\n",
              "      display: none;\n",
              "      fill: #1967D2;\n",
              "      height: 32px;\n",
              "      padding: 0 0 0 0;\n",
              "      width: 32px;\n",
              "    }\n",
              "\n",
              "    .colab-df-convert:hover {\n",
              "      background-color: #E2EBFA;\n",
              "      box-shadow: 0px 1px 2px rgba(60, 64, 67, 0.3), 0px 1px 3px 1px rgba(60, 64, 67, 0.15);\n",
              "      fill: #174EA6;\n",
              "    }\n",
              "\n",
              "    .colab-df-buttons div {\n",
              "      margin-bottom: 4px;\n",
              "    }\n",
              "\n",
              "    [theme=dark] .colab-df-convert {\n",
              "      background-color: #3B4455;\n",
              "      fill: #D2E3FC;\n",
              "    }\n",
              "\n",
              "    [theme=dark] .colab-df-convert:hover {\n",
              "      background-color: #434B5C;\n",
              "      box-shadow: 0px 1px 3px 1px rgba(0, 0, 0, 0.15);\n",
              "      filter: drop-shadow(0px 1px 2px rgba(0, 0, 0, 0.3));\n",
              "      fill: #FFFFFF;\n",
              "    }\n",
              "  </style>\n",
              "\n",
              "    <script>\n",
              "      const buttonEl =\n",
              "        document.querySelector('#df-ebc9c5c0-54b8-457c-9eb7-b0007b4ba38f button.colab-df-convert');\n",
              "      buttonEl.style.display =\n",
              "        google.colab.kernel.accessAllowed ? 'block' : 'none';\n",
              "\n",
              "      async function convertToInteractive(key) {\n",
              "        const element = document.querySelector('#df-ebc9c5c0-54b8-457c-9eb7-b0007b4ba38f');\n",
              "        const dataTable =\n",
              "          await google.colab.kernel.invokeFunction('convertToInteractive',\n",
              "                                                    [key], {});\n",
              "        if (!dataTable) return;\n",
              "\n",
              "        const docLinkHtml = 'Like what you see? Visit the ' +\n",
              "          '<a target=\"_blank\" href=https://colab.research.google.com/notebooks/data_table.ipynb>data table notebook</a>'\n",
              "          + ' to learn more about interactive tables.';\n",
              "        element.innerHTML = '';\n",
              "        dataTable['output_type'] = 'display_data';\n",
              "        await google.colab.output.renderOutput(dataTable, element);\n",
              "        const docLink = document.createElement('div');\n",
              "        docLink.innerHTML = docLinkHtml;\n",
              "        element.appendChild(docLink);\n",
              "      }\n",
              "    </script>\n",
              "  </div>\n",
              "\n",
              "\n",
              "    <div id=\"df-863ae569-6118-437d-a7a0-8059e5889404\">\n",
              "      <button class=\"colab-df-quickchart\" onclick=\"quickchart('df-863ae569-6118-437d-a7a0-8059e5889404')\"\n",
              "                title=\"Suggest charts\"\n",
              "                style=\"display:none;\">\n",
              "\n",
              "<svg xmlns=\"http://www.w3.org/2000/svg\" height=\"24px\"viewBox=\"0 0 24 24\"\n",
              "     width=\"24px\">\n",
              "    <g>\n",
              "        <path d=\"M19 3H5c-1.1 0-2 .9-2 2v14c0 1.1.9 2 2 2h14c1.1 0 2-.9 2-2V5c0-1.1-.9-2-2-2zM9 17H7v-7h2v7zm4 0h-2V7h2v10zm4 0h-2v-4h2v4z\"/>\n",
              "    </g>\n",
              "</svg>\n",
              "      </button>\n",
              "\n",
              "<style>\n",
              "  .colab-df-quickchart {\n",
              "      --bg-color: #E8F0FE;\n",
              "      --fill-color: #1967D2;\n",
              "      --hover-bg-color: #E2EBFA;\n",
              "      --hover-fill-color: #174EA6;\n",
              "      --disabled-fill-color: #AAA;\n",
              "      --disabled-bg-color: #DDD;\n",
              "  }\n",
              "\n",
              "  [theme=dark] .colab-df-quickchart {\n",
              "      --bg-color: #3B4455;\n",
              "      --fill-color: #D2E3FC;\n",
              "      --hover-bg-color: #434B5C;\n",
              "      --hover-fill-color: #FFFFFF;\n",
              "      --disabled-bg-color: #3B4455;\n",
              "      --disabled-fill-color: #666;\n",
              "  }\n",
              "\n",
              "  .colab-df-quickchart {\n",
              "    background-color: var(--bg-color);\n",
              "    border: none;\n",
              "    border-radius: 50%;\n",
              "    cursor: pointer;\n",
              "    display: none;\n",
              "    fill: var(--fill-color);\n",
              "    height: 32px;\n",
              "    padding: 0;\n",
              "    width: 32px;\n",
              "  }\n",
              "\n",
              "  .colab-df-quickchart:hover {\n",
              "    background-color: var(--hover-bg-color);\n",
              "    box-shadow: 0 1px 2px rgba(60, 64, 67, 0.3), 0 1px 3px 1px rgba(60, 64, 67, 0.15);\n",
              "    fill: var(--button-hover-fill-color);\n",
              "  }\n",
              "\n",
              "  .colab-df-quickchart-complete:disabled,\n",
              "  .colab-df-quickchart-complete:disabled:hover {\n",
              "    background-color: var(--disabled-bg-color);\n",
              "    fill: var(--disabled-fill-color);\n",
              "    box-shadow: none;\n",
              "  }\n",
              "\n",
              "  .colab-df-spinner {\n",
              "    border: 2px solid var(--fill-color);\n",
              "    border-color: transparent;\n",
              "    border-bottom-color: var(--fill-color);\n",
              "    animation:\n",
              "      spin 1s steps(1) infinite;\n",
              "  }\n",
              "\n",
              "  @keyframes spin {\n",
              "    0% {\n",
              "      border-color: transparent;\n",
              "      border-bottom-color: var(--fill-color);\n",
              "      border-left-color: var(--fill-color);\n",
              "    }\n",
              "    20% {\n",
              "      border-color: transparent;\n",
              "      border-left-color: var(--fill-color);\n",
              "      border-top-color: var(--fill-color);\n",
              "    }\n",
              "    30% {\n",
              "      border-color: transparent;\n",
              "      border-left-color: var(--fill-color);\n",
              "      border-top-color: var(--fill-color);\n",
              "      border-right-color: var(--fill-color);\n",
              "    }\n",
              "    40% {\n",
              "      border-color: transparent;\n",
              "      border-right-color: var(--fill-color);\n",
              "      border-top-color: var(--fill-color);\n",
              "    }\n",
              "    60% {\n",
              "      border-color: transparent;\n",
              "      border-right-color: var(--fill-color);\n",
              "    }\n",
              "    80% {\n",
              "      border-color: transparent;\n",
              "      border-right-color: var(--fill-color);\n",
              "      border-bottom-color: var(--fill-color);\n",
              "    }\n",
              "    90% {\n",
              "      border-color: transparent;\n",
              "      border-bottom-color: var(--fill-color);\n",
              "    }\n",
              "  }\n",
              "</style>\n",
              "\n",
              "      <script>\n",
              "        async function quickchart(key) {\n",
              "          const quickchartButtonEl =\n",
              "            document.querySelector('#' + key + ' button');\n",
              "          quickchartButtonEl.disabled = true;  // To prevent multiple clicks.\n",
              "          quickchartButtonEl.classList.add('colab-df-spinner');\n",
              "          try {\n",
              "            const charts = await google.colab.kernel.invokeFunction(\n",
              "                'suggestCharts', [key], {});\n",
              "          } catch (error) {\n",
              "            console.error('Error during call to suggestCharts:', error);\n",
              "          }\n",
              "          quickchartButtonEl.classList.remove('colab-df-spinner');\n",
              "          quickchartButtonEl.classList.add('colab-df-quickchart-complete');\n",
              "        }\n",
              "        (() => {\n",
              "          let quickchartButtonEl =\n",
              "            document.querySelector('#df-863ae569-6118-437d-a7a0-8059e5889404 button');\n",
              "          quickchartButtonEl.style.display =\n",
              "            google.colab.kernel.accessAllowed ? 'block' : 'none';\n",
              "        })();\n",
              "      </script>\n",
              "    </div>\n",
              "\n",
              "    </div>\n",
              "  </div>\n"
            ],
            "application/vnd.google.colaboratory.intrinsic+json": {
              "type": "dataframe",
              "summary": "{\n  \"name\": \"print(f'La forma del dataset es de:', df\",\n  \"rows\": 5,\n  \"fields\": [\n    {\n      \"column\": \"Timestamp\",\n      \"properties\": {\n        \"dtype\": \"object\",\n        \"num_unique_values\": 5,\n        \"samples\": [\n          \"5/7/2025, 12:00:00\",\n          \"5/7/2025, 11:30:00\",\n          \"5/7/2025, 11:50:00\"\n        ],\n        \"semantic_type\": \"\",\n        \"description\": \"\"\n      }\n    },\n    {\n      \"column\": \" \\\"I_dir [W/m2]\\\"\",\n      \"properties\": {\n        \"dtype\": \"number\",\n        \"std\": 9.722756810699313,\n        \"min\": 798.6,\n        \"max\": 823.0,\n        \"num_unique_values\": 5,\n        \"samples\": [\n          810.0,\n          823.0,\n          798.6\n        ],\n        \"semantic_type\": \"\",\n        \"description\": \"\"\n      }\n    },\n    {\n      \"column\": \" \\\"I_glo[W/m2]\\\"\",\n      \"properties\": {\n        \"dtype\": \"string\",\n        \"num_unique_values\": 4,\n        \"samples\": [\n          \"978\",\n          \"962\",\n          \"1\"\n        ],\n        \"semantic_type\": \"\",\n        \"description\": \"\"\n      }\n    },\n    {\n      \"column\": \" \\\"I_dif[W/m2]\\\"\",\n      \"properties\": {\n        \"dtype\": \"number\",\n        \"std\": 96.74291705339466,\n        \"min\": 1.0,\n        \"max\": 188.9,\n        \"num_unique_values\": 5,\n        \"samples\": [\n          1.0,\n          188.9,\n          170.4\n        ],\n        \"semantic_type\": \"\",\n        \"description\": \"\"\n      }\n    },\n    {\n      \"column\": \" \\\"Iglo_inc[W/m2]\\\"\",\n      \"properties\": {\n        \"dtype\": \"number\",\n        \"std\": 395.6737191171534,\n        \"min\": 164.6,\n        \"max\": 892.0,\n        \"num_unique_values\": 5,\n        \"samples\": [\n          168.0,\n          883.0,\n          892.0\n        ],\n        \"semantic_type\": \"\",\n        \"description\": \"\"\n      }\n    },\n    {\n      \"column\": \" \\\"Indice_UV[W/m2]\\\"\",\n      \"properties\": {\n        \"dtype\": \"number\",\n        \"std\": 498.59114655196197,\n        \"min\": 0.2,\n        \"max\": 912.0,\n        \"num_unique_values\": 4,\n        \"samples\": [\n          912.0,\n          0.2,\n          909.0\n        ],\n        \"semantic_type\": \"\",\n        \"description\": \"\"\n      }\n    },\n    {\n      \"column\": \" \\\"Indice_UVA[W/m2]\\\"\",\n      \"properties\": {\n        \"dtype\": \"number\",\n        \"std\": 33.79562027837335,\n        \"min\": 0.21,\n        \"max\": 62.18,\n        \"num_unique_values\": 4,\n        \"samples\": [\n          62.18,\n          61.46,\n          0.21\n        ],\n        \"semantic_type\": \"\",\n        \"description\": \"\"\n      }\n    },\n    {\n      \"column\": \" \\\"AirTC[\\u00b0C]\\\"\",\n      \"properties\": {\n        \"dtype\": \"number\",\n        \"std\": 20.094136707009834,\n        \"min\": 26.61,\n        \"max\": 63.65,\n        \"num_unique_values\": 5,\n        \"samples\": [\n          63.65,\n          26.76,\n          27.49\n        ],\n        \"semantic_type\": \"\",\n        \"description\": \"\"\n      }\n    },\n    {\n      \"column\": \" \\\"HR[%]\\\"\",\n      \"properties\": {\n        \"dtype\": \"number\",\n        \"std\": 18.70791730792073,\n        \"min\": 27.83,\n        \"max\": 63.42,\n        \"num_unique_values\": 5,\n        \"samples\": [\n          28.14,\n          62.28,\n          60.57\n        ],\n        \"semantic_type\": \"\",\n        \"description\": \"\"\n      }\n    },\n    {\n      \"column\": \" \\\"WS[m/s]\\\"\",\n      \"properties\": {\n        \"dtype\": \"number\",\n        \"std\": 32.19250735807946,\n        \"min\": 1.38,\n        \"max\": 61.56,\n        \"num_unique_values\": 5,\n        \"samples\": [\n          58.81,\n          1.51,\n          1.38\n        ],\n        \"semantic_type\": \"\",\n        \"description\": \"\"\n      }\n    },\n    {\n      \"column\": \" \\\"WD[grados]\\\"\",\n      \"properties\": {\n        \"dtype\": \"number\",\n        \"std\": 135.74041833588106,\n        \"min\": 1.13,\n        \"max\": 314.2,\n        \"num_unique_values\": 5,\n        \"samples\": [\n          1.13,\n          314.2,\n          103.6\n        ],\n        \"semantic_type\": \"\",\n        \"description\": \"\"\n      }\n    },\n    {\n      \"column\": \" \\\"PB[mbar]\\\"\",\n      \"properties\": {\n        \"dtype\": \"number\",\n        \"std\": 473.81745274947394,\n        \"min\": 1.54,\n        \"max\": 866.76,\n        \"num_unique_values\": 5,\n        \"samples\": [\n          1.54,\n          866.76,\n          866.45\n        ],\n        \"semantic_type\": \"\",\n        \"description\": \"\"\n      }\n    },\n    {\n      \"column\": \" \\\"Rain[mm]\\\"\",\n      \"properties\": {\n        \"dtype\": \"number\",\n        \"std\": 474.40168842448276,\n        \"min\": 0.0,\n        \"max\": 866.28,\n        \"num_unique_values\": 3,\n        \"samples\": [\n          865.99,\n          866.28,\n          0.0\n        ],\n        \"semantic_type\": \"\",\n        \"description\": \"\"\n      }\n    }\n  ]\n}"
            }
          },
          "metadata": {}
        },
        {
          "output_type": "stream",
          "name": "stdout",
          "text": [
            "\n",
            "La forma del dataset es de: (56984, 13)\n"
          ]
        }
      ],
      "source": [
        "# En esta celda importamos todas las librerías necesarias para el análisis.\n",
        "# También, se lee el archivo desde Github que contiene los datos con los que trabajaremos.\n",
        "# Realizamos también una pequeña exploración de los datos.\n",
        "\n",
        "import os\n",
        "import numpy as np\n",
        "import pandas as pd\n",
        "import seaborn as sns\n",
        "import tensorflow as tf\n",
        "import matplotlib.pyplot as plt\n",
        "from sklearn.model_selection import train_test_split, GridSearchCV\n",
        "from seaborn import countplot\n",
        "from sklearn.impute import SimpleImputer\n",
        "from sklearn.preprocessing import StandardScaler, OneHotEncoder, MinMaxScaler\n",
        "from sklearn.compose import ColumnTransformer\n",
        "from sklearn.utils.class_weight import compute_class_weight\n",
        "from sklearn.pipeline import Pipeline\n",
        "from sklearn.linear_model import LogisticRegression\n",
        "from sklearn.ensemble import RandomForestClassifier\n",
        "from sklearn.metrics import accuracy_score, classification_report, precision_score, recall_score, f1_score, confusion_matrix, ConfusionMatrixDisplay\n",
        "from keras.models import Sequential\n",
        "from keras.layers import Dense, Input\n",
        "from keras.callbacks import EarlyStopping\n",
        "from imblearn.over_sampling import SMOTE\n",
        "\n",
        "# Leemos el archivo desde Github\n",
        "url = \"https://raw.githubusercontent.com/DaveLeal/Diplomado-Python-UAEM/refs/heads/main/Proyecto%20final/Esolmet_IER-UNAM.csv\"\n",
        "df = pd.read_csv(url, sep=',', parse_dates=['Timestamp'])\n",
        "display(df.head())\n",
        "print()\n",
        "print(f'La forma del dataset es de:', df.shape)"
      ]
    },
    {
      "cell_type": "code",
      "source": [
        "df.dtypes #Vemos los tipos de datos de nuestro data frame"
      ],
      "metadata": {
        "colab": {
          "base_uri": "https://localhost:8080/",
          "height": 491
        },
        "collapsed": true,
        "id": "3kNHuhTZPAaO",
        "outputId": "bcb4c4c7-21d9-4238-aef6-3643ad584d6f"
      },
      "execution_count": 2,
      "outputs": [
        {
          "output_type": "execute_result",
          "data": {
            "text/plain": [
              "Timestamp               object\n",
              " \"I_dir [W/m2]\"        float64\n",
              " \"I_glo[W/m2]\"          object\n",
              " \"I_dif[W/m2]\"         float64\n",
              " \"Iglo_inc[W/m2]\"      float64\n",
              " \"Indice_UV[W/m2]\"     float64\n",
              " \"Indice_UVA[W/m2]\"    float64\n",
              " \"AirTC[°C]\"           float64\n",
              " \"HR[%]\"               float64\n",
              " \"WS[m/s]\"             float64\n",
              " \"WD[grados]\"          float64\n",
              " \"PB[mbar]\"            float64\n",
              " \"Rain[mm]\"            float64\n",
              "dtype: object"
            ],
            "text/html": [
              "<div>\n",
              "<style scoped>\n",
              "    .dataframe tbody tr th:only-of-type {\n",
              "        vertical-align: middle;\n",
              "    }\n",
              "\n",
              "    .dataframe tbody tr th {\n",
              "        vertical-align: top;\n",
              "    }\n",
              "\n",
              "    .dataframe thead th {\n",
              "        text-align: right;\n",
              "    }\n",
              "</style>\n",
              "<table border=\"1\" class=\"dataframe\">\n",
              "  <thead>\n",
              "    <tr style=\"text-align: right;\">\n",
              "      <th></th>\n",
              "      <th>0</th>\n",
              "    </tr>\n",
              "  </thead>\n",
              "  <tbody>\n",
              "    <tr>\n",
              "      <th>Timestamp</th>\n",
              "      <td>object</td>\n",
              "    </tr>\n",
              "    <tr>\n",
              "      <th>\"I_dir [W/m2]\"</th>\n",
              "      <td>float64</td>\n",
              "    </tr>\n",
              "    <tr>\n",
              "      <th>\"I_glo[W/m2]\"</th>\n",
              "      <td>object</td>\n",
              "    </tr>\n",
              "    <tr>\n",
              "      <th>\"I_dif[W/m2]\"</th>\n",
              "      <td>float64</td>\n",
              "    </tr>\n",
              "    <tr>\n",
              "      <th>\"Iglo_inc[W/m2]\"</th>\n",
              "      <td>float64</td>\n",
              "    </tr>\n",
              "    <tr>\n",
              "      <th>\"Indice_UV[W/m2]\"</th>\n",
              "      <td>float64</td>\n",
              "    </tr>\n",
              "    <tr>\n",
              "      <th>\"Indice_UVA[W/m2]\"</th>\n",
              "      <td>float64</td>\n",
              "    </tr>\n",
              "    <tr>\n",
              "      <th>\"AirTC[°C]\"</th>\n",
              "      <td>float64</td>\n",
              "    </tr>\n",
              "    <tr>\n",
              "      <th>\"HR[%]\"</th>\n",
              "      <td>float64</td>\n",
              "    </tr>\n",
              "    <tr>\n",
              "      <th>\"WS[m/s]\"</th>\n",
              "      <td>float64</td>\n",
              "    </tr>\n",
              "    <tr>\n",
              "      <th>\"WD[grados]\"</th>\n",
              "      <td>float64</td>\n",
              "    </tr>\n",
              "    <tr>\n",
              "      <th>\"PB[mbar]\"</th>\n",
              "      <td>float64</td>\n",
              "    </tr>\n",
              "    <tr>\n",
              "      <th>\"Rain[mm]\"</th>\n",
              "      <td>float64</td>\n",
              "    </tr>\n",
              "  </tbody>\n",
              "</table>\n",
              "</div><br><label><b>dtype:</b> object</label>"
            ]
          },
          "metadata": {},
          "execution_count": 2
        }
      ]
    },
    {
      "cell_type": "code",
      "source": [
        "#Cambiamos la columna de la irradiencia global de \"object\" a \"float\"\n",
        "df[' \"I_glo[W/m2]\"'] = df[' \"I_glo[W/m2]\"'].str.replace(',', '.').astype(float)"
      ],
      "metadata": {
        "id": "EtjwU51cPEbU"
      },
      "execution_count": 3,
      "outputs": []
    },
    {
      "cell_type": "code",
      "source": [
        "df.dtypes #Vemos los tipos de datos de nuestro data frame"
      ],
      "metadata": {
        "colab": {
          "base_uri": "https://localhost:8080/",
          "height": 491
        },
        "collapsed": true,
        "id": "uJ_6y144uIXt",
        "outputId": "2c4ae8c7-4cc9-442b-c143-3fd0ab03f208"
      },
      "execution_count": 4,
      "outputs": [
        {
          "output_type": "execute_result",
          "data": {
            "text/plain": [
              "Timestamp               object\n",
              " \"I_dir [W/m2]\"        float64\n",
              " \"I_glo[W/m2]\"         float64\n",
              " \"I_dif[W/m2]\"         float64\n",
              " \"Iglo_inc[W/m2]\"      float64\n",
              " \"Indice_UV[W/m2]\"     float64\n",
              " \"Indice_UVA[W/m2]\"    float64\n",
              " \"AirTC[°C]\"           float64\n",
              " \"HR[%]\"               float64\n",
              " \"WS[m/s]\"             float64\n",
              " \"WD[grados]\"          float64\n",
              " \"PB[mbar]\"            float64\n",
              " \"Rain[mm]\"            float64\n",
              "dtype: object"
            ],
            "text/html": [
              "<div>\n",
              "<style scoped>\n",
              "    .dataframe tbody tr th:only-of-type {\n",
              "        vertical-align: middle;\n",
              "    }\n",
              "\n",
              "    .dataframe tbody tr th {\n",
              "        vertical-align: top;\n",
              "    }\n",
              "\n",
              "    .dataframe thead th {\n",
              "        text-align: right;\n",
              "    }\n",
              "</style>\n",
              "<table border=\"1\" class=\"dataframe\">\n",
              "  <thead>\n",
              "    <tr style=\"text-align: right;\">\n",
              "      <th></th>\n",
              "      <th>0</th>\n",
              "    </tr>\n",
              "  </thead>\n",
              "  <tbody>\n",
              "    <tr>\n",
              "      <th>Timestamp</th>\n",
              "      <td>object</td>\n",
              "    </tr>\n",
              "    <tr>\n",
              "      <th>\"I_dir [W/m2]\"</th>\n",
              "      <td>float64</td>\n",
              "    </tr>\n",
              "    <tr>\n",
              "      <th>\"I_glo[W/m2]\"</th>\n",
              "      <td>float64</td>\n",
              "    </tr>\n",
              "    <tr>\n",
              "      <th>\"I_dif[W/m2]\"</th>\n",
              "      <td>float64</td>\n",
              "    </tr>\n",
              "    <tr>\n",
              "      <th>\"Iglo_inc[W/m2]\"</th>\n",
              "      <td>float64</td>\n",
              "    </tr>\n",
              "    <tr>\n",
              "      <th>\"Indice_UV[W/m2]\"</th>\n",
              "      <td>float64</td>\n",
              "    </tr>\n",
              "    <tr>\n",
              "      <th>\"Indice_UVA[W/m2]\"</th>\n",
              "      <td>float64</td>\n",
              "    </tr>\n",
              "    <tr>\n",
              "      <th>\"AirTC[°C]\"</th>\n",
              "      <td>float64</td>\n",
              "    </tr>\n",
              "    <tr>\n",
              "      <th>\"HR[%]\"</th>\n",
              "      <td>float64</td>\n",
              "    </tr>\n",
              "    <tr>\n",
              "      <th>\"WS[m/s]\"</th>\n",
              "      <td>float64</td>\n",
              "    </tr>\n",
              "    <tr>\n",
              "      <th>\"WD[grados]\"</th>\n",
              "      <td>float64</td>\n",
              "    </tr>\n",
              "    <tr>\n",
              "      <th>\"PB[mbar]\"</th>\n",
              "      <td>float64</td>\n",
              "    </tr>\n",
              "    <tr>\n",
              "      <th>\"Rain[mm]\"</th>\n",
              "      <td>float64</td>\n",
              "    </tr>\n",
              "  </tbody>\n",
              "</table>\n",
              "</div><br><label><b>dtype:</b> object</label>"
            ]
          },
          "metadata": {},
          "execution_count": 4
        }
      ]
    },
    {
      "cell_type": "code",
      "source": [
        "df.isna().sum()"
      ],
      "metadata": {
        "colab": {
          "base_uri": "https://localhost:8080/",
          "height": 491
        },
        "collapsed": true,
        "id": "xQYmMklXKvHx",
        "outputId": "c660476f-57a4-4efc-8aaf-73f1f737091c"
      },
      "execution_count": 5,
      "outputs": [
        {
          "output_type": "execute_result",
          "data": {
            "text/plain": [
              "Timestamp               86\n",
              " \"I_dir [W/m2]\"        122\n",
              " \"I_glo[W/m2]\"         124\n",
              " \"I_dif[W/m2]\"         122\n",
              " \"Iglo_inc[W/m2]\"      122\n",
              " \"Indice_UV[W/m2]\"     122\n",
              " \"Indice_UVA[W/m2]\"    122\n",
              " \"AirTC[°C]\"           122\n",
              " \"HR[%]\"               122\n",
              " \"WS[m/s]\"             122\n",
              " \"WD[grados]\"          122\n",
              " \"PB[mbar]\"            122\n",
              " \"Rain[mm]\"            122\n",
              "dtype: int64"
            ],
            "text/html": [
              "<div>\n",
              "<style scoped>\n",
              "    .dataframe tbody tr th:only-of-type {\n",
              "        vertical-align: middle;\n",
              "    }\n",
              "\n",
              "    .dataframe tbody tr th {\n",
              "        vertical-align: top;\n",
              "    }\n",
              "\n",
              "    .dataframe thead th {\n",
              "        text-align: right;\n",
              "    }\n",
              "</style>\n",
              "<table border=\"1\" class=\"dataframe\">\n",
              "  <thead>\n",
              "    <tr style=\"text-align: right;\">\n",
              "      <th></th>\n",
              "      <th>0</th>\n",
              "    </tr>\n",
              "  </thead>\n",
              "  <tbody>\n",
              "    <tr>\n",
              "      <th>Timestamp</th>\n",
              "      <td>86</td>\n",
              "    </tr>\n",
              "    <tr>\n",
              "      <th>\"I_dir [W/m2]\"</th>\n",
              "      <td>122</td>\n",
              "    </tr>\n",
              "    <tr>\n",
              "      <th>\"I_glo[W/m2]\"</th>\n",
              "      <td>124</td>\n",
              "    </tr>\n",
              "    <tr>\n",
              "      <th>\"I_dif[W/m2]\"</th>\n",
              "      <td>122</td>\n",
              "    </tr>\n",
              "    <tr>\n",
              "      <th>\"Iglo_inc[W/m2]\"</th>\n",
              "      <td>122</td>\n",
              "    </tr>\n",
              "    <tr>\n",
              "      <th>\"Indice_UV[W/m2]\"</th>\n",
              "      <td>122</td>\n",
              "    </tr>\n",
              "    <tr>\n",
              "      <th>\"Indice_UVA[W/m2]\"</th>\n",
              "      <td>122</td>\n",
              "    </tr>\n",
              "    <tr>\n",
              "      <th>\"AirTC[°C]\"</th>\n",
              "      <td>122</td>\n",
              "    </tr>\n",
              "    <tr>\n",
              "      <th>\"HR[%]\"</th>\n",
              "      <td>122</td>\n",
              "    </tr>\n",
              "    <tr>\n",
              "      <th>\"WS[m/s]\"</th>\n",
              "      <td>122</td>\n",
              "    </tr>\n",
              "    <tr>\n",
              "      <th>\"WD[grados]\"</th>\n",
              "      <td>122</td>\n",
              "    </tr>\n",
              "    <tr>\n",
              "      <th>\"PB[mbar]\"</th>\n",
              "      <td>122</td>\n",
              "    </tr>\n",
              "    <tr>\n",
              "      <th>\"Rain[mm]\"</th>\n",
              "      <td>122</td>\n",
              "    </tr>\n",
              "  </tbody>\n",
              "</table>\n",
              "</div><br><label><b>dtype:</b> int64</label>"
            ]
          },
          "metadata": {},
          "execution_count": 5
        }
      ]
    },
    {
      "cell_type": "markdown",
      "source": [
        "Notamos que hay datos faltantes en varias líneas. Limpiamos estas líneas."
      ],
      "metadata": {
        "id": "wXtJDeOSHLRT"
      }
    },
    {
      "cell_type": "code",
      "source": [
        "# Eliminar las filas que tienen elementos NaN\n",
        "# Estos datos faltantes son debido a la forma en que se tuvo que obtener la información\n",
        "# desde la plataforma original\n",
        "\n",
        "# Usamos la columna con más datos faltantes\n",
        "column_to_check = ' \"I_glo[W/m2]\"'\n",
        "df_cleaned = df.dropna(subset=[column_to_check])\n",
        "\n",
        "print(f'La forma del dataset después de eliminar NaNs en \"{column_to_check}\" es de:', df_cleaned.shape)\n",
        "\n",
        "# Corroboramos si hay datos faltantes\n",
        "print('\\nNúmero de NaNs por columna después de la limpieza:')\n",
        "print(df_cleaned.isna().sum())"
      ],
      "metadata": {
        "colab": {
          "base_uri": "https://localhost:8080/"
        },
        "collapsed": true,
        "id": "lDfVjizmLcFM",
        "outputId": "4e4fc101-d188-4ade-a79c-e6178f3ae9c7"
      },
      "execution_count": 6,
      "outputs": [
        {
          "output_type": "stream",
          "name": "stdout",
          "text": [
            "La forma del dataset después de eliminar NaNs en \" \"I_glo[W/m2]\"\" es de: (56860, 13)\n",
            "\n",
            "Número de NaNs por columna después de la limpieza:\n",
            "Timestamp              0\n",
            " \"I_dir [W/m2]\"        0\n",
            " \"I_glo[W/m2]\"         0\n",
            " \"I_dif[W/m2]\"         0\n",
            " \"Iglo_inc[W/m2]\"      0\n",
            " \"Indice_UV[W/m2]\"     0\n",
            " \"Indice_UVA[W/m2]\"    0\n",
            " \"AirTC[°C]\"           0\n",
            " \"HR[%]\"               0\n",
            " \"WS[m/s]\"             0\n",
            " \"WD[grados]\"          0\n",
            " \"PB[mbar]\"            0\n",
            " \"Rain[mm]\"            0\n",
            "dtype: int64\n"
          ]
        }
      ]
    },
    {
      "cell_type": "markdown",
      "source": [
        "Cambiamos el nombre de la columna por algo más explícito y en español"
      ],
      "metadata": {
        "id": "8equgcWbNgxZ"
      }
    },
    {
      "cell_type": "code",
      "source": [
        "df_cleaned = df_cleaned.rename(columns={'Timestamp':'Marca de tiempo',\n",
        "                                       ' \"WS[m/s]\"': 'Viento (m/s)',\n",
        "                                       ' \"WD[grados]\"':'Direccion_viento (grados)',\n",
        "                                        ' \"I_dir [W/m2]\"':'I_dir (W/m2)',\n",
        "                                        ' \"I_glo[W/m2]\"':'I_glo (W/m2)',\n",
        "                                        ' \"I_dif[W/m2]\"':'I_dif (W/m2)',\n",
        "                                        ' \"Iglo_inc[W/m2]\"':'Iglo_inc (W/m2)',\n",
        "                                        ' \"Indice_UV[W/m2]\"':'Indice_UV (W/m2)',\n",
        "                                        ' \"Indice_UVA[W/m2]\"':'Indice_UVA (W/m2)',\n",
        "                                        ' \"AirTC[°C]\"':'Temp aire (°C)',\n",
        "                                        ' \"HR[%]\"':'HR (%)',\n",
        "                                        ' \"PB[mbar]\"':'PB (mbar)',\n",
        "                                        ' \"Rain[mm]\"':'Lluvia (mm)',})\n",
        "\n",
        "print(f'\\nColumnas después de renombrar:')\n",
        "print(df_cleaned.columns)\n",
        "print()\n",
        "display(df_cleaned.head())"
      ],
      "metadata": {
        "colab": {
          "base_uri": "https://localhost:8080/",
          "height": 486
        },
        "collapsed": true,
        "id": "f4y6QPvbNl33",
        "outputId": "dd83a42d-e66c-40a9-c5aa-409d0712199e"
      },
      "execution_count": 7,
      "outputs": [
        {
          "output_type": "stream",
          "name": "stdout",
          "text": [
            "\n",
            "Columnas después de renombrar:\n",
            "Index(['Marca de tiempo', 'I_dir (W/m2)', 'I_glo (W/m2)', 'I_dif (W/m2)',\n",
            "       'Iglo_inc (W/m2)', 'Indice_UV (W/m2)', 'Indice_UVA (W/m2)',\n",
            "       'Temp aire (°C)', 'HR (%)', 'Viento (m/s)', 'Direccion_viento (grados)',\n",
            "       'PB (mbar)', 'Lluvia (mm)'],\n",
            "      dtype='object')\n",
            "\n"
          ]
        },
        {
          "output_type": "display_data",
          "data": {
            "text/plain": [
              "      Marca de tiempo  I_dir (W/m2)  I_glo (W/m2)  I_dif (W/m2)  \\\n",
              "0  5/7/2025, 12:10:00         801.0           1.0           4.0   \n",
              "1  5/7/2025, 12:00:00         810.0           1.0           1.0   \n",
              "2  5/7/2025, 11:50:00         798.6         978.0         170.4   \n",
              "3  5/7/2025, 11:40:00         812.0         974.0         176.8   \n",
              "4  5/7/2025, 11:30:00         823.0         962.0         188.9   \n",
              "\n",
              "   Iglo_inc (W/m2)  Indice_UV (W/m2)  Indice_UVA (W/m2)  Temp aire (°C)  \\\n",
              "0            164.6            909.00               0.21           63.62   \n",
              "1            168.0            912.00               0.21           63.65   \n",
              "2            892.0              0.21              62.18           27.49   \n",
              "3            891.0              0.20              62.09           26.61   \n",
              "4            883.0              0.20              61.46           26.76   \n",
              "\n",
              "   HR (%)  Viento (m/s)  Direccion_viento (grados)  PB (mbar)  Lluvia (mm)  \n",
              "0   27.83         61.56                       2.39       1.55       865.99  \n",
              "1   28.14         58.81                       1.13       1.54       866.28  \n",
              "2   60.57          1.38                     103.60     866.45         0.00  \n",
              "3   63.42          1.42                       1.54     866.63         0.00  \n",
              "4   62.28          1.51                     314.20     866.76         0.00  "
            ],
            "text/html": [
              "\n",
              "  <div id=\"df-2626a3db-4667-4fd3-a184-c57d553f6232\" class=\"colab-df-container\">\n",
              "    <div>\n",
              "<style scoped>\n",
              "    .dataframe tbody tr th:only-of-type {\n",
              "        vertical-align: middle;\n",
              "    }\n",
              "\n",
              "    .dataframe tbody tr th {\n",
              "        vertical-align: top;\n",
              "    }\n",
              "\n",
              "    .dataframe thead th {\n",
              "        text-align: right;\n",
              "    }\n",
              "</style>\n",
              "<table border=\"1\" class=\"dataframe\">\n",
              "  <thead>\n",
              "    <tr style=\"text-align: right;\">\n",
              "      <th></th>\n",
              "      <th>Marca de tiempo</th>\n",
              "      <th>I_dir (W/m2)</th>\n",
              "      <th>I_glo (W/m2)</th>\n",
              "      <th>I_dif (W/m2)</th>\n",
              "      <th>Iglo_inc (W/m2)</th>\n",
              "      <th>Indice_UV (W/m2)</th>\n",
              "      <th>Indice_UVA (W/m2)</th>\n",
              "      <th>Temp aire (°C)</th>\n",
              "      <th>HR (%)</th>\n",
              "      <th>Viento (m/s)</th>\n",
              "      <th>Direccion_viento (grados)</th>\n",
              "      <th>PB (mbar)</th>\n",
              "      <th>Lluvia (mm)</th>\n",
              "    </tr>\n",
              "  </thead>\n",
              "  <tbody>\n",
              "    <tr>\n",
              "      <th>0</th>\n",
              "      <td>5/7/2025, 12:10:00</td>\n",
              "      <td>801.0</td>\n",
              "      <td>1.0</td>\n",
              "      <td>4.0</td>\n",
              "      <td>164.6</td>\n",
              "      <td>909.00</td>\n",
              "      <td>0.21</td>\n",
              "      <td>63.62</td>\n",
              "      <td>27.83</td>\n",
              "      <td>61.56</td>\n",
              "      <td>2.39</td>\n",
              "      <td>1.55</td>\n",
              "      <td>865.99</td>\n",
              "    </tr>\n",
              "    <tr>\n",
              "      <th>1</th>\n",
              "      <td>5/7/2025, 12:00:00</td>\n",
              "      <td>810.0</td>\n",
              "      <td>1.0</td>\n",
              "      <td>1.0</td>\n",
              "      <td>168.0</td>\n",
              "      <td>912.00</td>\n",
              "      <td>0.21</td>\n",
              "      <td>63.65</td>\n",
              "      <td>28.14</td>\n",
              "      <td>58.81</td>\n",
              "      <td>1.13</td>\n",
              "      <td>1.54</td>\n",
              "      <td>866.28</td>\n",
              "    </tr>\n",
              "    <tr>\n",
              "      <th>2</th>\n",
              "      <td>5/7/2025, 11:50:00</td>\n",
              "      <td>798.6</td>\n",
              "      <td>978.0</td>\n",
              "      <td>170.4</td>\n",
              "      <td>892.0</td>\n",
              "      <td>0.21</td>\n",
              "      <td>62.18</td>\n",
              "      <td>27.49</td>\n",
              "      <td>60.57</td>\n",
              "      <td>1.38</td>\n",
              "      <td>103.60</td>\n",
              "      <td>866.45</td>\n",
              "      <td>0.00</td>\n",
              "    </tr>\n",
              "    <tr>\n",
              "      <th>3</th>\n",
              "      <td>5/7/2025, 11:40:00</td>\n",
              "      <td>812.0</td>\n",
              "      <td>974.0</td>\n",
              "      <td>176.8</td>\n",
              "      <td>891.0</td>\n",
              "      <td>0.20</td>\n",
              "      <td>62.09</td>\n",
              "      <td>26.61</td>\n",
              "      <td>63.42</td>\n",
              "      <td>1.42</td>\n",
              "      <td>1.54</td>\n",
              "      <td>866.63</td>\n",
              "      <td>0.00</td>\n",
              "    </tr>\n",
              "    <tr>\n",
              "      <th>4</th>\n",
              "      <td>5/7/2025, 11:30:00</td>\n",
              "      <td>823.0</td>\n",
              "      <td>962.0</td>\n",
              "      <td>188.9</td>\n",
              "      <td>883.0</td>\n",
              "      <td>0.20</td>\n",
              "      <td>61.46</td>\n",
              "      <td>26.76</td>\n",
              "      <td>62.28</td>\n",
              "      <td>1.51</td>\n",
              "      <td>314.20</td>\n",
              "      <td>866.76</td>\n",
              "      <td>0.00</td>\n",
              "    </tr>\n",
              "  </tbody>\n",
              "</table>\n",
              "</div>\n",
              "    <div class=\"colab-df-buttons\">\n",
              "\n",
              "  <div class=\"colab-df-container\">\n",
              "    <button class=\"colab-df-convert\" onclick=\"convertToInteractive('df-2626a3db-4667-4fd3-a184-c57d553f6232')\"\n",
              "            title=\"Convert this dataframe to an interactive table.\"\n",
              "            style=\"display:none;\">\n",
              "\n",
              "  <svg xmlns=\"http://www.w3.org/2000/svg\" height=\"24px\" viewBox=\"0 -960 960 960\">\n",
              "    <path d=\"M120-120v-720h720v720H120Zm60-500h600v-160H180v160Zm220 220h160v-160H400v160Zm0 220h160v-160H400v160ZM180-400h160v-160H180v160Zm440 0h160v-160H620v160ZM180-180h160v-160H180v160Zm440 0h160v-160H620v160Z\"/>\n",
              "  </svg>\n",
              "    </button>\n",
              "\n",
              "  <style>\n",
              "    .colab-df-container {\n",
              "      display:flex;\n",
              "      gap: 12px;\n",
              "    }\n",
              "\n",
              "    .colab-df-convert {\n",
              "      background-color: #E8F0FE;\n",
              "      border: none;\n",
              "      border-radius: 50%;\n",
              "      cursor: pointer;\n",
              "      display: none;\n",
              "      fill: #1967D2;\n",
              "      height: 32px;\n",
              "      padding: 0 0 0 0;\n",
              "      width: 32px;\n",
              "    }\n",
              "\n",
              "    .colab-df-convert:hover {\n",
              "      background-color: #E2EBFA;\n",
              "      box-shadow: 0px 1px 2px rgba(60, 64, 67, 0.3), 0px 1px 3px 1px rgba(60, 64, 67, 0.15);\n",
              "      fill: #174EA6;\n",
              "    }\n",
              "\n",
              "    .colab-df-buttons div {\n",
              "      margin-bottom: 4px;\n",
              "    }\n",
              "\n",
              "    [theme=dark] .colab-df-convert {\n",
              "      background-color: #3B4455;\n",
              "      fill: #D2E3FC;\n",
              "    }\n",
              "\n",
              "    [theme=dark] .colab-df-convert:hover {\n",
              "      background-color: #434B5C;\n",
              "      box-shadow: 0px 1px 3px 1px rgba(0, 0, 0, 0.15);\n",
              "      filter: drop-shadow(0px 1px 2px rgba(0, 0, 0, 0.3));\n",
              "      fill: #FFFFFF;\n",
              "    }\n",
              "  </style>\n",
              "\n",
              "    <script>\n",
              "      const buttonEl =\n",
              "        document.querySelector('#df-2626a3db-4667-4fd3-a184-c57d553f6232 button.colab-df-convert');\n",
              "      buttonEl.style.display =\n",
              "        google.colab.kernel.accessAllowed ? 'block' : 'none';\n",
              "\n",
              "      async function convertToInteractive(key) {\n",
              "        const element = document.querySelector('#df-2626a3db-4667-4fd3-a184-c57d553f6232');\n",
              "        const dataTable =\n",
              "          await google.colab.kernel.invokeFunction('convertToInteractive',\n",
              "                                                    [key], {});\n",
              "        if (!dataTable) return;\n",
              "\n",
              "        const docLinkHtml = 'Like what you see? Visit the ' +\n",
              "          '<a target=\"_blank\" href=https://colab.research.google.com/notebooks/data_table.ipynb>data table notebook</a>'\n",
              "          + ' to learn more about interactive tables.';\n",
              "        element.innerHTML = '';\n",
              "        dataTable['output_type'] = 'display_data';\n",
              "        await google.colab.output.renderOutput(dataTable, element);\n",
              "        const docLink = document.createElement('div');\n",
              "        docLink.innerHTML = docLinkHtml;\n",
              "        element.appendChild(docLink);\n",
              "      }\n",
              "    </script>\n",
              "  </div>\n",
              "\n",
              "\n",
              "    <div id=\"df-dba83319-af6a-4c0b-af38-47a0aa5ae6fd\">\n",
              "      <button class=\"colab-df-quickchart\" onclick=\"quickchart('df-dba83319-af6a-4c0b-af38-47a0aa5ae6fd')\"\n",
              "                title=\"Suggest charts\"\n",
              "                style=\"display:none;\">\n",
              "\n",
              "<svg xmlns=\"http://www.w3.org/2000/svg\" height=\"24px\"viewBox=\"0 0 24 24\"\n",
              "     width=\"24px\">\n",
              "    <g>\n",
              "        <path d=\"M19 3H5c-1.1 0-2 .9-2 2v14c0 1.1.9 2 2 2h14c1.1 0 2-.9 2-2V5c0-1.1-.9-2-2-2zM9 17H7v-7h2v7zm4 0h-2V7h2v10zm4 0h-2v-4h2v4z\"/>\n",
              "    </g>\n",
              "</svg>\n",
              "      </button>\n",
              "\n",
              "<style>\n",
              "  .colab-df-quickchart {\n",
              "      --bg-color: #E8F0FE;\n",
              "      --fill-color: #1967D2;\n",
              "      --hover-bg-color: #E2EBFA;\n",
              "      --hover-fill-color: #174EA6;\n",
              "      --disabled-fill-color: #AAA;\n",
              "      --disabled-bg-color: #DDD;\n",
              "  }\n",
              "\n",
              "  [theme=dark] .colab-df-quickchart {\n",
              "      --bg-color: #3B4455;\n",
              "      --fill-color: #D2E3FC;\n",
              "      --hover-bg-color: #434B5C;\n",
              "      --hover-fill-color: #FFFFFF;\n",
              "      --disabled-bg-color: #3B4455;\n",
              "      --disabled-fill-color: #666;\n",
              "  }\n",
              "\n",
              "  .colab-df-quickchart {\n",
              "    background-color: var(--bg-color);\n",
              "    border: none;\n",
              "    border-radius: 50%;\n",
              "    cursor: pointer;\n",
              "    display: none;\n",
              "    fill: var(--fill-color);\n",
              "    height: 32px;\n",
              "    padding: 0;\n",
              "    width: 32px;\n",
              "  }\n",
              "\n",
              "  .colab-df-quickchart:hover {\n",
              "    background-color: var(--hover-bg-color);\n",
              "    box-shadow: 0 1px 2px rgba(60, 64, 67, 0.3), 0 1px 3px 1px rgba(60, 64, 67, 0.15);\n",
              "    fill: var(--button-hover-fill-color);\n",
              "  }\n",
              "\n",
              "  .colab-df-quickchart-complete:disabled,\n",
              "  .colab-df-quickchart-complete:disabled:hover {\n",
              "    background-color: var(--disabled-bg-color);\n",
              "    fill: var(--disabled-fill-color);\n",
              "    box-shadow: none;\n",
              "  }\n",
              "\n",
              "  .colab-df-spinner {\n",
              "    border: 2px solid var(--fill-color);\n",
              "    border-color: transparent;\n",
              "    border-bottom-color: var(--fill-color);\n",
              "    animation:\n",
              "      spin 1s steps(1) infinite;\n",
              "  }\n",
              "\n",
              "  @keyframes spin {\n",
              "    0% {\n",
              "      border-color: transparent;\n",
              "      border-bottom-color: var(--fill-color);\n",
              "      border-left-color: var(--fill-color);\n",
              "    }\n",
              "    20% {\n",
              "      border-color: transparent;\n",
              "      border-left-color: var(--fill-color);\n",
              "      border-top-color: var(--fill-color);\n",
              "    }\n",
              "    30% {\n",
              "      border-color: transparent;\n",
              "      border-left-color: var(--fill-color);\n",
              "      border-top-color: var(--fill-color);\n",
              "      border-right-color: var(--fill-color);\n",
              "    }\n",
              "    40% {\n",
              "      border-color: transparent;\n",
              "      border-right-color: var(--fill-color);\n",
              "      border-top-color: var(--fill-color);\n",
              "    }\n",
              "    60% {\n",
              "      border-color: transparent;\n",
              "      border-right-color: var(--fill-color);\n",
              "    }\n",
              "    80% {\n",
              "      border-color: transparent;\n",
              "      border-right-color: var(--fill-color);\n",
              "      border-bottom-color: var(--fill-color);\n",
              "    }\n",
              "    90% {\n",
              "      border-color: transparent;\n",
              "      border-bottom-color: var(--fill-color);\n",
              "    }\n",
              "  }\n",
              "</style>\n",
              "\n",
              "      <script>\n",
              "        async function quickchart(key) {\n",
              "          const quickchartButtonEl =\n",
              "            document.querySelector('#' + key + ' button');\n",
              "          quickchartButtonEl.disabled = true;  // To prevent multiple clicks.\n",
              "          quickchartButtonEl.classList.add('colab-df-spinner');\n",
              "          try {\n",
              "            const charts = await google.colab.kernel.invokeFunction(\n",
              "                'suggestCharts', [key], {});\n",
              "          } catch (error) {\n",
              "            console.error('Error during call to suggestCharts:', error);\n",
              "          }\n",
              "          quickchartButtonEl.classList.remove('colab-df-spinner');\n",
              "          quickchartButtonEl.classList.add('colab-df-quickchart-complete');\n",
              "        }\n",
              "        (() => {\n",
              "          let quickchartButtonEl =\n",
              "            document.querySelector('#df-dba83319-af6a-4c0b-af38-47a0aa5ae6fd button');\n",
              "          quickchartButtonEl.style.display =\n",
              "            google.colab.kernel.accessAllowed ? 'block' : 'none';\n",
              "        })();\n",
              "      </script>\n",
              "    </div>\n",
              "\n",
              "    </div>\n",
              "  </div>\n"
            ],
            "application/vnd.google.colaboratory.intrinsic+json": {
              "type": "dataframe",
              "summary": "{\n  \"name\": \"display(df_cleaned\",\n  \"rows\": 5,\n  \"fields\": [\n    {\n      \"column\": \"Marca de tiempo\",\n      \"properties\": {\n        \"dtype\": \"object\",\n        \"num_unique_values\": 5,\n        \"samples\": [\n          \"5/7/2025, 12:00:00\",\n          \"5/7/2025, 11:30:00\",\n          \"5/7/2025, 11:50:00\"\n        ],\n        \"semantic_type\": \"\",\n        \"description\": \"\"\n      }\n    },\n    {\n      \"column\": \"I_dir (W/m2)\",\n      \"properties\": {\n        \"dtype\": \"number\",\n        \"std\": 9.722756810699313,\n        \"min\": 798.6,\n        \"max\": 823.0,\n        \"num_unique_values\": 5,\n        \"samples\": [\n          810.0,\n          823.0,\n          798.6\n        ],\n        \"semantic_type\": \"\",\n        \"description\": \"\"\n      }\n    },\n    {\n      \"column\": \"I_glo (W/m2)\",\n      \"properties\": {\n        \"dtype\": \"number\",\n        \"std\": 531.5060676981966,\n        \"min\": 1.0,\n        \"max\": 978.0,\n        \"num_unique_values\": 4,\n        \"samples\": [\n          978.0,\n          962.0,\n          1.0\n        ],\n        \"semantic_type\": \"\",\n        \"description\": \"\"\n      }\n    },\n    {\n      \"column\": \"I_dif (W/m2)\",\n      \"properties\": {\n        \"dtype\": \"number\",\n        \"std\": 96.74291705339466,\n        \"min\": 1.0,\n        \"max\": 188.9,\n        \"num_unique_values\": 5,\n        \"samples\": [\n          1.0,\n          188.9,\n          170.4\n        ],\n        \"semantic_type\": \"\",\n        \"description\": \"\"\n      }\n    },\n    {\n      \"column\": \"Iglo_inc (W/m2)\",\n      \"properties\": {\n        \"dtype\": \"number\",\n        \"std\": 395.6737191171534,\n        \"min\": 164.6,\n        \"max\": 892.0,\n        \"num_unique_values\": 5,\n        \"samples\": [\n          168.0,\n          883.0,\n          892.0\n        ],\n        \"semantic_type\": \"\",\n        \"description\": \"\"\n      }\n    },\n    {\n      \"column\": \"Indice_UV (W/m2)\",\n      \"properties\": {\n        \"dtype\": \"number\",\n        \"std\": 498.59114655196197,\n        \"min\": 0.2,\n        \"max\": 912.0,\n        \"num_unique_values\": 4,\n        \"samples\": [\n          912.0,\n          0.2,\n          909.0\n        ],\n        \"semantic_type\": \"\",\n        \"description\": \"\"\n      }\n    },\n    {\n      \"column\": \"Indice_UVA (W/m2)\",\n      \"properties\": {\n        \"dtype\": \"number\",\n        \"std\": 33.79562027837335,\n        \"min\": 0.21,\n        \"max\": 62.18,\n        \"num_unique_values\": 4,\n        \"samples\": [\n          62.18,\n          61.46,\n          0.21\n        ],\n        \"semantic_type\": \"\",\n        \"description\": \"\"\n      }\n    },\n    {\n      \"column\": \"Temp aire (\\u00b0C)\",\n      \"properties\": {\n        \"dtype\": \"number\",\n        \"std\": 20.094136707009834,\n        \"min\": 26.61,\n        \"max\": 63.65,\n        \"num_unique_values\": 5,\n        \"samples\": [\n          63.65,\n          26.76,\n          27.49\n        ],\n        \"semantic_type\": \"\",\n        \"description\": \"\"\n      }\n    },\n    {\n      \"column\": \"HR (%)\",\n      \"properties\": {\n        \"dtype\": \"number\",\n        \"std\": 18.70791730792073,\n        \"min\": 27.83,\n        \"max\": 63.42,\n        \"num_unique_values\": 5,\n        \"samples\": [\n          28.14,\n          62.28,\n          60.57\n        ],\n        \"semantic_type\": \"\",\n        \"description\": \"\"\n      }\n    },\n    {\n      \"column\": \"Viento (m/s)\",\n      \"properties\": {\n        \"dtype\": \"number\",\n        \"std\": 32.19250735807946,\n        \"min\": 1.38,\n        \"max\": 61.56,\n        \"num_unique_values\": 5,\n        \"samples\": [\n          58.81,\n          1.51,\n          1.38\n        ],\n        \"semantic_type\": \"\",\n        \"description\": \"\"\n      }\n    },\n    {\n      \"column\": \"Direccion_viento (grados)\",\n      \"properties\": {\n        \"dtype\": \"number\",\n        \"std\": 135.74041833588106,\n        \"min\": 1.13,\n        \"max\": 314.2,\n        \"num_unique_values\": 5,\n        \"samples\": [\n          1.13,\n          314.2,\n          103.6\n        ],\n        \"semantic_type\": \"\",\n        \"description\": \"\"\n      }\n    },\n    {\n      \"column\": \"PB (mbar)\",\n      \"properties\": {\n        \"dtype\": \"number\",\n        \"std\": 473.81745274947394,\n        \"min\": 1.54,\n        \"max\": 866.76,\n        \"num_unique_values\": 5,\n        \"samples\": [\n          1.54,\n          866.76,\n          866.45\n        ],\n        \"semantic_type\": \"\",\n        \"description\": \"\"\n      }\n    },\n    {\n      \"column\": \"Lluvia (mm)\",\n      \"properties\": {\n        \"dtype\": \"number\",\n        \"std\": 474.40168842448276,\n        \"min\": 0.0,\n        \"max\": 866.28,\n        \"num_unique_values\": 3,\n        \"samples\": [\n          865.99,\n          866.28,\n          0.0\n        ],\n        \"semantic_type\": \"\",\n        \"description\": \"\"\n      }\n    }\n  ]\n}"
            }
          },
          "metadata": {}
        }
      ]
    },
    {
      "cell_type": "code",
      "source": [
        "# Crear variable target\n",
        "df_cleaned['target'] = (df_cleaned['I_glo (W/m2)'] >= 600).astype(int)\n",
        "\n",
        "# Verificar balanceo\n",
        "print(\"Distribución de clases:\\n\", df_cleaned['target'].value_counts(normalize=True))"
      ],
      "metadata": {
        "colab": {
          "base_uri": "https://localhost:8080/"
        },
        "id": "qIHWo9SCNPvB",
        "outputId": "03c56b8a-eb17-4048-bd6d-e18d25ccaafe"
      },
      "execution_count": 8,
      "outputs": [
        {
          "output_type": "stream",
          "name": "stdout",
          "text": [
            "Distribución de clases:\n",
            " target\n",
            "0    0.808477\n",
            "1    0.191523\n",
            "Name: proportion, dtype: float64\n"
          ]
        }
      ]
    },
    {
      "cell_type": "code",
      "source": [
        "#Extraemos las características temporales y ajustamos el formato que espera Pandas\n",
        "df_cleaned['Marca de tiempo'] = pd.to_datetime(df_cleaned['Marca de tiempo'], format='%d/%m/%Y, %H:%M:%S')\n",
        "df_cleaned['hora'] = df_cleaned['Marca de tiempo'].dt.hour\n",
        "df_cleaned['mes'] = df_cleaned['Marca de tiempo'].dt.month\n",
        "\n",
        "# Calcular la razón de irradiancia difusa/global como proxy de nubosidad\n",
        "df_cleaned['razon_difusa_global'] = df_cleaned['I_dif (W/m2)'] / (df_cleaned['I_glo (W/m2)'] + 1e-6)  # Evitar división por cero\n",
        "\n",
        "# Separamos variables y nuestro target\n",
        "# Es importante que quitemos la irradiancia global, ya que queremos predecir el\n",
        "# target a partir de las otras variables.\n",
        "X = df_cleaned.drop(['target', 'Marca de tiempo', 'I_glo (W/m2)'], axis=1)\n",
        "y = df_cleaned['target'].values"
      ],
      "metadata": {
        "id": "wZ_HK5ICWLGR"
      },
      "execution_count": 9,
      "outputs": []
    },
    {
      "cell_type": "markdown",
      "source": [
        "División Train-Test y balanceo"
      ],
      "metadata": {
        "id": "lw3BoqwWh70n"
      }
    },
    {
      "cell_type": "code",
      "source": [
        "# Ahora dividimos los datos en conjuntos de entrenamiento, validación y prueba.\n",
        "# Para ello, usamos la función train_test_split de scikit-learn.\n",
        "# El argumento stratify se utiliza para mantener la proporción de clases en los\n",
        "# conjuntos de entrenamiento y prueba.\n",
        "# Finalmente, imprimimos las dimensiones de los conjuntos resultantes.\n",
        "\n",
        "X_train, X_test, y_train, y_test = train_test_split(X, y,\n",
        "                                                    test_size=0.15,\n",
        "                                                    stratify = y,\n",
        "                                                    random_state=423)\n",
        "X_train, X_val, y_train, y_val = train_test_split(X_train, y_train,\n",
        "                                                  test_size=0.2,\n",
        "                                                  stratify = y_train,\n",
        "                                                  random_state=423)\n",
        "\n",
        "print(X_train.shape, X_val.shape, X_test.shape)"
      ],
      "metadata": {
        "colab": {
          "base_uri": "https://localhost:8080/"
        },
        "id": "XY0nHZpfiCtK",
        "outputId": "15a36466-359b-4690-80b6-98f677cca4c8"
      },
      "execution_count": 10,
      "outputs": [
        {
          "output_type": "stream",
          "name": "stdout",
          "text": [
            "(38664, 14) (9667, 14) (8529, 14)\n"
          ]
        }
      ]
    },
    {
      "cell_type": "markdown",
      "source": [
        "Calculamos los pesos de las clases para nuestros datos de entrenamiento y hacemos control de escalas."
      ],
      "metadata": {
        "id": "HAPHoKPXp7nb"
      }
    },
    {
      "cell_type": "code",
      "source": [
        "class_weights = compute_class_weight('balanced',\n",
        "                                     classes=np.unique(y_train),\n",
        "                                     y=y_train)\n",
        "class_weights = {0: class_weights[0], 1: class_weights[1]}\n",
        "class_weights"
      ],
      "metadata": {
        "colab": {
          "base_uri": "https://localhost:8080/"
        },
        "id": "AjRRaVfqqKrS",
        "outputId": "c35510cd-9695-41d9-d6bf-24055a6304b3"
      },
      "execution_count": 11,
      "outputs": [
        {
          "output_type": "execute_result",
          "data": {
            "text/plain": [
              "{0: np.float64(0.6184458875843757), 1: np.float64(2.6106684672518568)}"
            ]
          },
          "metadata": {},
          "execution_count": 11
        }
      ]
    },
    {
      "cell_type": "code",
      "source": [
        "# Realizamos escalamiento de variables cuidando que no haya data leakage.\n",
        "\n",
        "scaler = MinMaxScaler()\n",
        "X_train = scaler.fit_transform(X_train)\n",
        "\n",
        "X_val = scaler.transform(X_val)\n",
        "X_test = scaler.transform(X_test)"
      ],
      "metadata": {
        "id": "DTnepXX3yrAp"
      },
      "execution_count": 12,
      "outputs": []
    },
    {
      "cell_type": "markdown",
      "source": [
        "Definimos funciones para crear y configurar modelos de redes neuronales secuenciales usando *Keras*."
      ],
      "metadata": {
        "id": "vtn2hzz42_zC"
      }
    },
    {
      "cell_type": "code",
      "source": [
        "# Definimos una función con base en «opcion» para crear un modelo de red neuronal.\n",
        "# La diferencia de las dos opciones es el número de capas y neuronas.\n",
        "\n",
        "def build_model(opcion=1): #Tras probar ambos modelos, la opción 1 funciona mejor.\n",
        "    if opcion == 1:\n",
        "        model = Sequential()\n",
        "        model.add(Input(shape=(X_train.shape[1],)))\n",
        "        model.add(Dense(8, activation='relu'))\n",
        "        model.add(Dense(1, activation='sigmoid'))\n",
        "        model.compile(optimizer='adam',\n",
        "                    loss='binary_crossentropy',\n",
        "                    metrics=['recall'])\n",
        "        return model\n",
        "    elif opcion == 2:\n",
        "        model = Sequential()\n",
        "        model.add(Input(shape=(X_train.shape[1],)))\n",
        "        model.add(Dense(46, activation='relu'))\n",
        "        model.add(Dense(21, activation='relu'))\n",
        "        model.add(Dense(1, activation='sigmoid'))\n",
        "        model.compile(optimizer='adam',\n",
        "                    loss='binary_crossentropy',\n",
        "                    metrics=['recall'])\n",
        "        return model\n",
        "    else:\n",
        "        print(\"Opción no valida\")\n",
        "\n",
        "#-----------------------\n",
        "\n",
        "model = build_model(opcion=1)\n",
        "model.summary()\n",
        ""
      ],
      "metadata": {
        "colab": {
          "base_uri": "https://localhost:8080/",
          "height": 193
        },
        "id": "EU4ECkCm9Kdu",
        "outputId": "864e56cd-8943-4118-82f5-bec6ab93074f"
      },
      "execution_count": 13,
      "outputs": [
        {
          "output_type": "display_data",
          "data": {
            "text/plain": [
              "\u001b[1mModel: \"sequential\"\u001b[0m\n"
            ],
            "text/html": [
              "<pre style=\"white-space:pre;overflow-x:auto;line-height:normal;font-family:Menlo,'DejaVu Sans Mono',consolas,'Courier New',monospace\"><span style=\"font-weight: bold\">Model: \"sequential\"</span>\n",
              "</pre>\n"
            ]
          },
          "metadata": {}
        },
        {
          "output_type": "display_data",
          "data": {
            "text/plain": [
              "┏━━━━━━━━━━━━━━━━━━━━━━━━━━━━━━━━━┳━━━━━━━━━━━━━━━━━━━━━━━━┳━━━━━━━━━━━━━━━┓\n",
              "┃\u001b[1m \u001b[0m\u001b[1mLayer (type)                   \u001b[0m\u001b[1m \u001b[0m┃\u001b[1m \u001b[0m\u001b[1mOutput Shape          \u001b[0m\u001b[1m \u001b[0m┃\u001b[1m \u001b[0m\u001b[1m      Param #\u001b[0m\u001b[1m \u001b[0m┃\n",
              "┡━━━━━━━━━━━━━━━━━━━━━━━━━━━━━━━━━╇━━━━━━━━━━━━━━━━━━━━━━━━╇━━━━━━━━━━━━━━━┩\n",
              "│ dense (\u001b[38;5;33mDense\u001b[0m)                   │ (\u001b[38;5;45mNone\u001b[0m, \u001b[38;5;34m8\u001b[0m)              │           \u001b[38;5;34m120\u001b[0m │\n",
              "├─────────────────────────────────┼────────────────────────┼───────────────┤\n",
              "│ dense_1 (\u001b[38;5;33mDense\u001b[0m)                 │ (\u001b[38;5;45mNone\u001b[0m, \u001b[38;5;34m1\u001b[0m)              │             \u001b[38;5;34m9\u001b[0m │\n",
              "└─────────────────────────────────┴────────────────────────┴───────────────┘\n"
            ],
            "text/html": [
              "<pre style=\"white-space:pre;overflow-x:auto;line-height:normal;font-family:Menlo,'DejaVu Sans Mono',consolas,'Courier New',monospace\">┏━━━━━━━━━━━━━━━━━━━━━━━━━━━━━━━━━┳━━━━━━━━━━━━━━━━━━━━━━━━┳━━━━━━━━━━━━━━━┓\n",
              "┃<span style=\"font-weight: bold\"> Layer (type)                    </span>┃<span style=\"font-weight: bold\"> Output Shape           </span>┃<span style=\"font-weight: bold\">       Param # </span>┃\n",
              "┡━━━━━━━━━━━━━━━━━━━━━━━━━━━━━━━━━╇━━━━━━━━━━━━━━━━━━━━━━━━╇━━━━━━━━━━━━━━━┩\n",
              "│ dense (<span style=\"color: #0087ff; text-decoration-color: #0087ff\">Dense</span>)                   │ (<span style=\"color: #00d7ff; text-decoration-color: #00d7ff\">None</span>, <span style=\"color: #00af00; text-decoration-color: #00af00\">8</span>)              │           <span style=\"color: #00af00; text-decoration-color: #00af00\">120</span> │\n",
              "├─────────────────────────────────┼────────────────────────┼───────────────┤\n",
              "│ dense_1 (<span style=\"color: #0087ff; text-decoration-color: #0087ff\">Dense</span>)                 │ (<span style=\"color: #00d7ff; text-decoration-color: #00d7ff\">None</span>, <span style=\"color: #00af00; text-decoration-color: #00af00\">1</span>)              │             <span style=\"color: #00af00; text-decoration-color: #00af00\">9</span> │\n",
              "└─────────────────────────────────┴────────────────────────┴───────────────┘\n",
              "</pre>\n"
            ]
          },
          "metadata": {}
        },
        {
          "output_type": "display_data",
          "data": {
            "text/plain": [
              "\u001b[1m Total params: \u001b[0m\u001b[38;5;34m129\u001b[0m (516.00 B)\n"
            ],
            "text/html": [
              "<pre style=\"white-space:pre;overflow-x:auto;line-height:normal;font-family:Menlo,'DejaVu Sans Mono',consolas,'Courier New',monospace\"><span style=\"font-weight: bold\"> Total params: </span><span style=\"color: #00af00; text-decoration-color: #00af00\">129</span> (516.00 B)\n",
              "</pre>\n"
            ]
          },
          "metadata": {}
        },
        {
          "output_type": "display_data",
          "data": {
            "text/plain": [
              "\u001b[1m Trainable params: \u001b[0m\u001b[38;5;34m129\u001b[0m (516.00 B)\n"
            ],
            "text/html": [
              "<pre style=\"white-space:pre;overflow-x:auto;line-height:normal;font-family:Menlo,'DejaVu Sans Mono',consolas,'Courier New',monospace\"><span style=\"font-weight: bold\"> Trainable params: </span><span style=\"color: #00af00; text-decoration-color: #00af00\">129</span> (516.00 B)\n",
              "</pre>\n"
            ]
          },
          "metadata": {}
        },
        {
          "output_type": "display_data",
          "data": {
            "text/plain": [
              "\u001b[1m Non-trainable params: \u001b[0m\u001b[38;5;34m0\u001b[0m (0.00 B)\n"
            ],
            "text/html": [
              "<pre style=\"white-space:pre;overflow-x:auto;line-height:normal;font-family:Menlo,'DejaVu Sans Mono',consolas,'Courier New',monospace\"><span style=\"font-weight: bold\"> Non-trainable params: </span><span style=\"color: #00af00; text-decoration-color: #00af00\">0</span> (0.00 B)\n",
              "</pre>\n"
            ]
          },
          "metadata": {}
        }
      ]
    },
    {
      "cell_type": "code",
      "source": [
        "# Definimos un parámetro de parada temprana para evitar el sobreajuste.\n",
        "\n",
        "callback_es = EarlyStopping(monitor='val_loss',\n",
        "                   mode='min',\n",
        "                   verbose=1,\n",
        "                   patience=3,\n",
        "                   restore_best_weights=True\n",
        "                   )"
      ],
      "metadata": {
        "id": "WbHu3nhRDtJG"
      },
      "execution_count": 14,
      "outputs": []
    },
    {
      "cell_type": "code",
      "source": [
        "# Definimos el entrenador del modelo usando los datos de entrenamiento y validación.\n",
        "\n",
        "history = model.fit(X_train, y_train,\n",
        "                    epochs=40,\n",
        "                    batch_size=256,\n",
        "                    class_weight=class_weights,\n",
        "                    validation_data=(X_val, y_val),\n",
        "                    callbacks=[callback_es])"
      ],
      "metadata": {
        "colab": {
          "base_uri": "https://localhost:8080/"
        },
        "collapsed": true,
        "id": "B8BQkjOr9otP",
        "outputId": "4c6e4edf-c1f5-461b-85e7-6a94b3684d3d"
      },
      "execution_count": 15,
      "outputs": [
        {
          "output_type": "stream",
          "name": "stdout",
          "text": [
            "Epoch 1/40\n",
            "\u001b[1m152/152\u001b[0m \u001b[32m━━━━━━━━━━━━━━━━━━━━\u001b[0m\u001b[37m\u001b[0m \u001b[1m4s\u001b[0m 11ms/step - loss: 0.6818 - recall: 0.9743 - val_loss: 0.4909 - val_recall: 0.9158\n",
            "Epoch 2/40\n",
            "\u001b[1m152/152\u001b[0m \u001b[32m━━━━━━━━━━━━━━━━━━━━\u001b[0m\u001b[37m\u001b[0m \u001b[1m1s\u001b[0m 3ms/step - loss: 0.4418 - recall: 0.9198 - val_loss: 0.3166 - val_recall: 0.9627\n",
            "Epoch 3/40\n",
            "\u001b[1m152/152\u001b[0m \u001b[32m━━━━━━━━━━━━━━━━━━━━\u001b[0m\u001b[37m\u001b[0m \u001b[1m1s\u001b[0m 3ms/step - loss: 0.2838 - recall: 0.9592 - val_loss: 0.2351 - val_recall: 0.9703\n",
            "Epoch 4/40\n",
            "\u001b[1m152/152\u001b[0m \u001b[32m━━━━━━━━━━━━━━━━━━━━\u001b[0m\u001b[37m\u001b[0m \u001b[1m1s\u001b[0m 3ms/step - loss: 0.2136 - recall: 0.9659 - val_loss: 0.2018 - val_recall: 0.9735\n",
            "Epoch 5/40\n",
            "\u001b[1m152/152\u001b[0m \u001b[32m━━━━━━━━━━━━━━━━━━━━\u001b[0m\u001b[37m\u001b[0m \u001b[1m0s\u001b[0m 3ms/step - loss: 0.1844 - recall: 0.9711 - val_loss: 0.1831 - val_recall: 0.9773\n",
            "Epoch 6/40\n",
            "\u001b[1m152/152\u001b[0m \u001b[32m━━━━━━━━━━━━━━━━━━━━\u001b[0m\u001b[37m\u001b[0m \u001b[1m1s\u001b[0m 3ms/step - loss: 0.1683 - recall: 0.9737 - val_loss: 0.1666 - val_recall: 0.9795\n",
            "Epoch 7/40\n",
            "\u001b[1m152/152\u001b[0m \u001b[32m━━━━━━━━━━━━━━━━━━━━\u001b[0m\u001b[37m\u001b[0m \u001b[1m1s\u001b[0m 3ms/step - loss: 0.1538 - recall: 0.9798 - val_loss: 0.1551 - val_recall: 0.9806\n",
            "Epoch 8/40\n",
            "\u001b[1m152/152\u001b[0m \u001b[32m━━━━━━━━━━━━━━━━━━━━\u001b[0m\u001b[37m\u001b[0m \u001b[1m1s\u001b[0m 3ms/step - loss: 0.1397 - recall: 0.9835 - val_loss: 0.1405 - val_recall: 0.9806\n",
            "Epoch 9/40\n",
            "\u001b[1m152/152\u001b[0m \u001b[32m━━━━━━━━━━━━━━━━━━━━\u001b[0m\u001b[37m\u001b[0m \u001b[1m0s\u001b[0m 3ms/step - loss: 0.1321 - recall: 0.9830 - val_loss: 0.1379 - val_recall: 0.9843\n",
            "Epoch 10/40\n",
            "\u001b[1m152/152\u001b[0m \u001b[32m━━━━━━━━━━━━━━━━━━━━\u001b[0m\u001b[37m\u001b[0m \u001b[1m0s\u001b[0m 3ms/step - loss: 0.1220 - recall: 0.9863 - val_loss: 0.1311 - val_recall: 0.9865\n",
            "Epoch 11/40\n",
            "\u001b[1m152/152\u001b[0m \u001b[32m━━━━━━━━━━━━━━━━━━━━\u001b[0m\u001b[37m\u001b[0m \u001b[1m0s\u001b[0m 3ms/step - loss: 0.1186 - recall: 0.9868 - val_loss: 0.1263 - val_recall: 0.9876\n",
            "Epoch 12/40\n",
            "\u001b[1m152/152\u001b[0m \u001b[32m━━━━━━━━━━━━━━━━━━━━\u001b[0m\u001b[37m\u001b[0m \u001b[1m1s\u001b[0m 3ms/step - loss: 0.1146 - recall: 0.9874 - val_loss: 0.1191 - val_recall: 0.9870\n",
            "Epoch 13/40\n",
            "\u001b[1m152/152\u001b[0m \u001b[32m━━━━━━━━━━━━━━━━━━━━\u001b[0m\u001b[37m\u001b[0m \u001b[1m1s\u001b[0m 3ms/step - loss: 0.1124 - recall: 0.9869 - val_loss: 0.1204 - val_recall: 0.9876\n",
            "Epoch 14/40\n",
            "\u001b[1m152/152\u001b[0m \u001b[32m━━━━━━━━━━━━━━━━━━━━\u001b[0m\u001b[37m\u001b[0m \u001b[1m1s\u001b[0m 3ms/step - loss: 0.1104 - recall: 0.9867 - val_loss: 0.1139 - val_recall: 0.9870\n",
            "Epoch 15/40\n",
            "\u001b[1m152/152\u001b[0m \u001b[32m━━━━━━━━━━━━━━━━━━━━\u001b[0m\u001b[37m\u001b[0m \u001b[1m1s\u001b[0m 4ms/step - loss: 0.1063 - recall: 0.9861 - val_loss: 0.1114 - val_recall: 0.9876\n",
            "Epoch 16/40\n",
            "\u001b[1m152/152\u001b[0m \u001b[32m━━━━━━━━━━━━━━━━━━━━\u001b[0m\u001b[37m\u001b[0m \u001b[1m1s\u001b[0m 4ms/step - loss: 0.1023 - recall: 0.9859 - val_loss: 0.1106 - val_recall: 0.9881\n",
            "Epoch 17/40\n",
            "\u001b[1m152/152\u001b[0m \u001b[32m━━━━━━━━━━━━━━━━━━━━\u001b[0m\u001b[37m\u001b[0m \u001b[1m1s\u001b[0m 3ms/step - loss: 0.0962 - recall: 0.9871 - val_loss: 0.1072 - val_recall: 0.9876\n",
            "Epoch 18/40\n",
            "\u001b[1m152/152\u001b[0m \u001b[32m━━━━━━━━━━━━━━━━━━━━\u001b[0m\u001b[37m\u001b[0m \u001b[1m1s\u001b[0m 3ms/step - loss: 0.0983 - recall: 0.9863 - val_loss: 0.1015 - val_recall: 0.9860\n",
            "Epoch 19/40\n",
            "\u001b[1m152/152\u001b[0m \u001b[32m━━━━━━━━━━━━━━━━━━━━\u001b[0m\u001b[37m\u001b[0m \u001b[1m1s\u001b[0m 3ms/step - loss: 0.0958 - recall: 0.9850 - val_loss: 0.0981 - val_recall: 0.9838\n",
            "Epoch 20/40\n",
            "\u001b[1m152/152\u001b[0m \u001b[32m━━━━━━━━━━━━━━━━━━━━\u001b[0m\u001b[37m\u001b[0m \u001b[1m1s\u001b[0m 3ms/step - loss: 0.0927 - recall: 0.9877 - val_loss: 0.1063 - val_recall: 0.9892\n",
            "Epoch 21/40\n",
            "\u001b[1m152/152\u001b[0m \u001b[32m━━━━━━━━━━━━━━━━━━━━\u001b[0m\u001b[37m\u001b[0m \u001b[1m0s\u001b[0m 3ms/step - loss: 0.0940 - recall: 0.9851 - val_loss: 0.0996 - val_recall: 0.9870\n",
            "Epoch 22/40\n",
            "\u001b[1m152/152\u001b[0m \u001b[32m━━━━━━━━━━━━━━━━━━━━\u001b[0m\u001b[37m\u001b[0m \u001b[1m0s\u001b[0m 3ms/step - loss: 0.0864 - recall: 0.9865 - val_loss: 0.0962 - val_recall: 0.9860\n",
            "Epoch 23/40\n",
            "\u001b[1m152/152\u001b[0m \u001b[32m━━━━━━━━━━━━━━━━━━━━\u001b[0m\u001b[37m\u001b[0m \u001b[1m1s\u001b[0m 3ms/step - loss: 0.0896 - recall: 0.9848 - val_loss: 0.0949 - val_recall: 0.9860\n",
            "Epoch 24/40\n",
            "\u001b[1m152/152\u001b[0m \u001b[32m━━━━━━━━━━━━━━━━━━━━\u001b[0m\u001b[37m\u001b[0m \u001b[1m1s\u001b[0m 3ms/step - loss: 0.0875 - recall: 0.9808 - val_loss: 0.0877 - val_recall: 0.9833\n",
            "Epoch 25/40\n",
            "\u001b[1m152/152\u001b[0m \u001b[32m━━━━━━━━━━━━━━━━━━━━\u001b[0m\u001b[37m\u001b[0m \u001b[1m1s\u001b[0m 3ms/step - loss: 0.0888 - recall: 0.9818 - val_loss: 0.0899 - val_recall: 0.9854\n",
            "Epoch 26/40\n",
            "\u001b[1m152/152\u001b[0m \u001b[32m━━━━━━━━━━━━━━━━━━━━\u001b[0m\u001b[37m\u001b[0m \u001b[1m1s\u001b[0m 3ms/step - loss: 0.0855 - recall: 0.9825 - val_loss: 0.0869 - val_recall: 0.9849\n",
            "Epoch 27/40\n",
            "\u001b[1m152/152\u001b[0m \u001b[32m━━━━━━━━━━━━━━━━━━━━\u001b[0m\u001b[37m\u001b[0m \u001b[1m1s\u001b[0m 3ms/step - loss: 0.0810 - recall: 0.9807 - val_loss: 0.0907 - val_recall: 0.9865\n",
            "Epoch 28/40\n",
            "\u001b[1m152/152\u001b[0m \u001b[32m━━━━━━━━━━━━━━━━━━━━\u001b[0m\u001b[37m\u001b[0m \u001b[1m0s\u001b[0m 3ms/step - loss: 0.0805 - recall: 0.9847 - val_loss: 0.0843 - val_recall: 0.9854\n",
            "Epoch 29/40\n",
            "\u001b[1m152/152\u001b[0m \u001b[32m━━━━━━━━━━━━━━━━━━━━\u001b[0m\u001b[37m\u001b[0m \u001b[1m1s\u001b[0m 3ms/step - loss: 0.0754 - recall: 0.9858 - val_loss: 0.0901 - val_recall: 0.9876\n",
            "Epoch 30/40\n",
            "\u001b[1m152/152\u001b[0m \u001b[32m━━━━━━━━━━━━━━━━━━━━\u001b[0m\u001b[37m\u001b[0m \u001b[1m1s\u001b[0m 3ms/step - loss: 0.0834 - recall: 0.9816 - val_loss: 0.0836 - val_recall: 0.9865\n",
            "Epoch 31/40\n",
            "\u001b[1m152/152\u001b[0m \u001b[32m━━━━━━━━━━━━━━━━━━━━\u001b[0m\u001b[37m\u001b[0m \u001b[1m0s\u001b[0m 3ms/step - loss: 0.0792 - recall: 0.9828 - val_loss: 0.0825 - val_recall: 0.9854\n",
            "Epoch 32/40\n",
            "\u001b[1m152/152\u001b[0m \u001b[32m━━━━━━━━━━━━━━━━━━━━\u001b[0m\u001b[37m\u001b[0m \u001b[1m1s\u001b[0m 3ms/step - loss: 0.0792 - recall: 0.9794 - val_loss: 0.0845 - val_recall: 0.9860\n",
            "Epoch 33/40\n",
            "\u001b[1m152/152\u001b[0m \u001b[32m━━━━━━━━━━━━━━━━━━━━\u001b[0m\u001b[37m\u001b[0m \u001b[1m1s\u001b[0m 4ms/step - loss: 0.0761 - recall: 0.9883 - val_loss: 0.0832 - val_recall: 0.9870\n",
            "Epoch 34/40\n",
            "\u001b[1m152/152\u001b[0m \u001b[32m━━━━━━━━━━━━━━━━━━━━\u001b[0m\u001b[37m\u001b[0m \u001b[1m1s\u001b[0m 4ms/step - loss: 0.0766 - recall: 0.9863 - val_loss: 0.0815 - val_recall: 0.9876\n",
            "Epoch 35/40\n",
            "\u001b[1m152/152\u001b[0m \u001b[32m━━━━━━━━━━━━━━━━━━━━\u001b[0m\u001b[37m\u001b[0m \u001b[1m1s\u001b[0m 4ms/step - loss: 0.0749 - recall: 0.9862 - val_loss: 0.0815 - val_recall: 0.9870\n",
            "Epoch 36/40\n",
            "\u001b[1m152/152\u001b[0m \u001b[32m━━━━━━━━━━━━━━━━━━━━\u001b[0m\u001b[37m\u001b[0m \u001b[1m0s\u001b[0m 3ms/step - loss: 0.0748 - recall: 0.9852 - val_loss: 0.0810 - val_recall: 0.9870\n",
            "Epoch 37/40\n",
            "\u001b[1m152/152\u001b[0m \u001b[32m━━━━━━━━━━━━━━━━━━━━\u001b[0m\u001b[37m\u001b[0m \u001b[1m1s\u001b[0m 3ms/step - loss: 0.0748 - recall: 0.9846 - val_loss: 0.0741 - val_recall: 0.9811\n",
            "Epoch 38/40\n",
            "\u001b[1m152/152\u001b[0m \u001b[32m━━━━━━━━━━━━━━━━━━━━\u001b[0m\u001b[37m\u001b[0m \u001b[1m1s\u001b[0m 3ms/step - loss: 0.0728 - recall: 0.9856 - val_loss: 0.0812 - val_recall: 0.9876\n",
            "Epoch 39/40\n",
            "\u001b[1m152/152\u001b[0m \u001b[32m━━━━━━━━━━━━━━━━━━━━\u001b[0m\u001b[37m\u001b[0m \u001b[1m1s\u001b[0m 3ms/step - loss: 0.0784 - recall: 0.9832 - val_loss: 0.0777 - val_recall: 0.9860\n",
            "Epoch 40/40\n",
            "\u001b[1m152/152\u001b[0m \u001b[32m━━━━━━━━━━━━━━━━━━━━\u001b[0m\u001b[37m\u001b[0m \u001b[1m1s\u001b[0m 3ms/step - loss: 0.0723 - recall: 0.9865 - val_loss: 0.0811 - val_recall: 0.9876\n",
            "Epoch 40: early stopping\n",
            "Restoring model weights from the end of the best epoch: 37.\n"
          ]
        }
      ]
    },
    {
      "cell_type": "markdown",
      "source": [
        "Visualicemos cómo se comporta nuestro modelo."
      ],
      "metadata": {
        "id": "E9zZm0WZ0tuL"
      }
    },
    {
      "cell_type": "code",
      "source": [
        "# Con este código generamos dos gráficas para visualizar el historial de\n",
        "# entrenamiento del modelo con Recall y Model Loss\n",
        "\n",
        "fig, axs = plt.subplots(1, 2, figsize=(15, 5))\n",
        "axs[1].plot(history.history['recall'])\n",
        "axs[1].plot(history.history['val_recall'])\n",
        "axs[1].set_title('Model Recall')\n",
        "axs[1].set_ylabel('Recall')\n",
        "axs[1].set_xlabel('Epoch')\n",
        "axs[1].legend(['Train', 'Validation'], loc='upper left')\n",
        "axs[0].plot(history.history['loss'])\n",
        "axs[0].plot(history.history['val_loss'])\n",
        "axs[0].set_title('Model Loss')\n",
        "axs[0].set_ylabel('Loss')\n",
        "axs[0].set_xlabel('Epoch')\n",
        "axs[0].legend(['Train', 'Validation'], loc='upper left')\n",
        "fig.show()"
      ],
      "metadata": {
        "colab": {
          "base_uri": "https://localhost:8080/",
          "height": 334
        },
        "id": "FlYQJMwZ9yHZ",
        "outputId": "15a33ec0-4f4a-4e45-ca0b-9c4fdb2999f3"
      },
      "execution_count": 16,
      "outputs": [
        {
          "output_type": "display_data",
          "data": {
            "text/plain": [
              "<Figure size 1500x500 with 2 Axes>"
            ],
            "image/png": "[encoded data removed]"
          },
          "metadata": {}
        }
      ]
    },
    {
      "cell_type": "code",
      "source": [
        "# Calculamos y convertimos las probanilidades predichas a predicciones binarias\n",
        "y_pred = (model.predict(X_test) > 0.5).astype(int)\n",
        "\n",
        "print(f'Accuracy: {accuracy_score(y_test, y_pred)}')\n",
        "print(f'Recall: {recall_score(y_test, y_pred)}')\n",
        "print(f'Precision: {precision_score(y_test, y_pred)}')\n",
        "print(f'F1 Score: {f1_score(y_test, y_pred)}')"
      ],
      "metadata": {
        "colab": {
          "base_uri": "https://localhost:8080/"
        },
        "id": "ZlcEKqsm-wfk",
        "outputId": "b22cf561-695d-4295-bb92-6019f0270cbc"
      },
      "execution_count": 17,
      "outputs": [
        {
          "output_type": "stream",
          "name": "stdout",
          "text": [
            "\u001b[1m267/267\u001b[0m \u001b[32m━━━━━━━━━━━━━━━━━━━━\u001b[0m\u001b[37m\u001b[0m \u001b[1m1s\u001b[0m 2ms/step\n",
            "Accuracy: 0.9704537460429125\n",
            "Recall: 0.9871402327005512\n",
            "Precision: 0.8746608790016278\n",
            "F1 Score: 0.9275028768699655\n"
          ]
        }
      ]
    },
    {
      "cell_type": "code",
      "metadata": {
        "colab": {
          "base_uri": "https://localhost:8080/",
          "height": 565
        },
        "id": "6f9d6968",
        "outputId": "25aba883-b672-4784-d12c-bdb86f5cd71f"
      },
      "source": [
        "# Generamos y mostramos la matriz de confusión\n",
        "cm = confusion_matrix(y_test, y_pred)\n",
        "\n",
        "plt.figure(figsize=(8, 6))\n",
        "sns.heatmap(cm, annot=True, fmt='d', cmap='Greens', cbar=False,\n",
        "            xticklabels=['Predicted 0', 'Predicted 1'],\n",
        "            yticklabels=['Actual 0', 'Actual 1'])\n",
        "plt.xlabel('Predicción del nivel de irradiancia global')\n",
        "plt.ylabel('Nivel de irradiancia global real')\n",
        "plt.title('Matriz de confusión del modelo MLP')\n",
        "plt.show()"
      ],
      "execution_count": 18,
      "outputs": [
        {
          "output_type": "display_data",
          "data": {
            "text/plain": [
              "<Figure size 800x600 with 1 Axes>"
            ],
            "image/png": "[encoded data removed]"
          },
          "metadata": {}
        }
      ]
    },
    {
      "cell_type": "markdown",
      "source": [
        "Tenemos una alta *Accuracy*, pero una relativamente baja *Precision*, lo que causa que haya muchos falsos positivos.\n",
        "\n",
        "Analicemos el problema, pero ahora usando el **clasificador Random Forest** sin redes neuronales."
      ],
      "metadata": {
        "id": "8aw0mh9MEmoZ"
      }
    },
    {
      "cell_type": "code",
      "source": [
        "# Split estratificado\n",
        "X_train_RF, X_test_RF, y_train_RF, y_test_RF = train_test_split(\n",
        "    X, y, test_size=0.3, random_state=42, stratify=y\n",
        ")\n",
        "\n",
        "# Balanceo con SMOTE (si hay desbalance)\n",
        "\n",
        "# smote = SMOTE(random_state=42)\n",
        "# X_train_bal, y_train_bal = smote.fit_resample(X_train_RF, y_train_RF)"
      ],
      "metadata": {
        "id": "64Yj47-I4D95"
      },
      "execution_count": 19,
      "outputs": []
    },
    {
      "cell_type": "code",
      "source": [
        "# Modelo base Random Forest para clasificación\n",
        "model_2 = RandomForestClassifier(\n",
        "    n_estimators=100,\n",
        "    max_depth=8,\n",
        "    class_weight='balanced', #Random Forest puede lidiar con el desbalance de clases, por eso no se usó SMOTE en la celda anterior.\n",
        "    random_state=42,\n",
        "    min_samples_split=2 #Default\n",
        ")\n",
        "model_2.fit(X_train_RF, y_train_RF)\n",
        "\n",
        "# Evaluación\n",
        "y_pred_RF = model_2.predict(X_test_RF)\n",
        "print(classification_report(y_test_RF, y_pred_RF))"
      ],
      "metadata": {
        "colab": {
          "base_uri": "https://localhost:8080/"
        },
        "id": "1oDlsd1XJkjh",
        "outputId": "2b3eb467-6ef9-423d-f4dc-f3eb1377dc1e"
      },
      "execution_count": 21,
      "outputs": [
        {
          "output_type": "stream",
          "name": "stdout",
          "text": [
            "              precision    recall  f1-score   support\n",
            "\n",
            "           0       1.00      0.99      0.99     13791\n",
            "           1       0.96      0.99      0.98      3267\n",
            "\n",
            "    accuracy                           0.99     17058\n",
            "   macro avg       0.98      0.99      0.98     17058\n",
            "weighted avg       0.99      0.99      0.99     17058\n",
            "\n"
          ]
        }
      ]
    },
    {
      "cell_type": "code",
      "source": [
        "# Usemos nuevamente la matriz de confusión para ver si el modelo está funcionando.\n",
        "ConfusionMatrixDisplay.from_estimator(model_2, X_test_RF, y_test_RF, cmap='Blues')\n",
        "plt.title(\"Matriz de confusión - Random Fores\")\n",
        "plt.xlabel('Predicción del nivel de irradiancia global')\n",
        "plt.ylabel('Nivel de irradiancia global real')\n",
        "plt.show()"
      ],
      "metadata": {
        "colab": {
          "base_uri": "https://localhost:8080/",
          "height": 472
        },
        "id": "Rv3ipxr2LCQS",
        "outputId": "26b48960-a23c-4599-9db9-fc35aa70634a"
      },
      "execution_count": 25,
      "outputs": [
        {
          "output_type": "display_data",
          "data": {
            "text/plain": [
              "<Figure size 640x480 with 2 Axes>"
            ],
            "image/png": "[encoded data removed]"
          },
          "metadata": {}
        }
      ]
    },
    {
      "cell_type": "code",
      "source": [
        "# Visualicemos las características más importantes del modelo.\n",
        "\n",
        "importancias = model_2.feature_importances_\n",
        "indices = np.argsort(importancias)[::-1]\n",
        "\n",
        "# Obtenemos los nombres de las variables desde los datos de entrenamiento\n",
        "features = X_train_RF.columns\n",
        "\n",
        "plt.figure(figsize=(10, 6), )\n",
        "plt.title(\"Importancia de Features\")\n",
        "plt.barh(range(len(indices)), importancias[indices], align='center')\n",
        "plt.yticks(range(len(indices)), [features[i] for i in indices])\n",
        "plt.show()"
      ],
      "metadata": {
        "colab": {
          "base_uri": "https://localhost:8080/",
          "height": 463
        },
        "id": "LYUVr0NhLgwF",
        "outputId": "1df06ab5-ce96-46c3-9418-5fac791f8aeb"
      },
      "execution_count": 23,
      "outputs": [
        {
          "output_type": "display_data",
          "data": {
            "text/plain": [
              "<Figure size 1000x600 with 1 Axes>"
            ],
            "image/png": "[encoded data removed]"
          },
          "metadata": {}
        }
      ]
    },
    {
      "cell_type": "code",
      "source": [
        "# Generamos un Grid Search para encontrar los mejores parámetros para el modelo.\n",
        "# Esto toma alrededor de 7 minutos usando GPU.\n",
        "param_grid = {\n",
        "    'n_estimators': [50, 100, 200],\n",
        "    'max_depth': [5, 8, None],\n",
        "    'min_samples_split': [2, 5, 10]\n",
        "}\n",
        "\n",
        "grid_search = GridSearchCV(\n",
        "    estimator=model_2,\n",
        "    param_grid=param_grid,\n",
        "    scoring='f1',\n",
        "    cv=5\n",
        ")\n",
        "grid_search.fit(X_train_RF, y_train_RF)\n",
        "\n",
        "print(\"Mejores parámetros:\", grid_search.best_params_)"
      ],
      "metadata": {
        "colab": {
          "base_uri": "https://localhost:8080/"
        },
        "id": "jSJbsF6ALzYM",
        "outputId": "a171f7ef-a42d-41c4-f2e3-a213c3f69534"
      },
      "execution_count": 42,
      "outputs": [
        {
          "output_type": "stream",
          "name": "stdout",
          "text": [
            "Mejores parámetros: {'max_depth': None, 'min_samples_split': 5, 'n_estimators': 100}\n"
          ]
        }
      ]
    },
    {
      "cell_type": "code",
      "source": [
        "# Modelo base con los mejores parámetros encontrados en el Grid Search\n",
        "model_2 = RandomForestClassifier(\n",
        "    n_estimators=100,\n",
        "    max_depth=None,\n",
        "    class_weight='balanced',\n",
        "    random_state=42,\n",
        "    min_samples_split=5 #Default\n",
        ")\n",
        "model_2.fit(X_train_RF, y_train_RF)\n",
        "\n",
        "# Evaluación\n",
        "y_pred_RF = model_2.predict(X_test_RF)\n",
        "print(classification_report(y_test_RF, y_pred_RF))"
      ],
      "metadata": {
        "colab": {
          "base_uri": "https://localhost:8080/"
        },
        "id": "U15uzKPCS2Au",
        "outputId": "644b5750-3edc-481a-da6b-2e16cd825ef6"
      },
      "execution_count": 24,
      "outputs": [
        {
          "output_type": "stream",
          "name": "stdout",
          "text": [
            "              precision    recall  f1-score   support\n",
            "\n",
            "           0       1.00      1.00      1.00     13791\n",
            "           1       0.98      0.99      0.98      3267\n",
            "\n",
            "    accuracy                           0.99     17058\n",
            "   macro avg       0.99      0.99      0.99     17058\n",
            "weighted avg       0.99      0.99      0.99     17058\n",
            "\n"
          ]
        }
      ]
    },
    {
      "cell_type": "code",
      "source": [
        "# Visualicemos cómo se comporta nuestro modelo al comparar las predicciones con las reales.\n",
        "test_dates = df_cleaned.loc[X_test_RF.index, 'Marca de tiempo']\n",
        "plt.figure(figsize=(12, 4))\n",
        "plt.scatter(test_dates, y_test_RF, label='Real', alpha=0.3)\n",
        "plt.scatter(test_dates, y_pred_RF, label='Predicho', alpha=0.3)\n",
        "plt.title(\"Comparación de Predicciones en el Tiempo\")\n",
        "plt.legend()\n",
        "plt.show()"
      ],
      "metadata": {
        "colab": {
          "base_uri": "https://localhost:8080/",
          "height": 334
        },
        "id": "NeHmwYxNQp4H",
        "outputId": "5d114f3a-908e-44cf-d365-9d359125d852"
      },
      "execution_count": 44,
      "outputs": [
        {
          "output_type": "display_data",
          "data": {
            "text/plain": [
              "<Figure size 1200x400 with 1 Axes>"
            ],
            "image/png": "[encoded data removed]"
          },
          "metadata": {}
        }
      ]
    },
    {
      "cell_type": "markdown",
      "source": [
        "**Conclusiones**\n",
        "\n",
        "1.   El modelo es útil para predecir ventanas de alta generación de enrgía, por lo que es posible planificar mantenimiento en periodos de baja producción.\n",
        "2.   Variables como irradiancia global y los índices UV y UVA son críticas\n",
        "3.   La variable \"nubosidad\" o \"razón_difusa_global\" no fue relevante.\n",
        "\n",
        "\n",
        "\n",
        "\n"
      ],
      "metadata": {
        "id": "VpQc4PxMUeas"
      }
    },
    {
      "cell_type": "code",
      "source": [],
      "metadata": {
        "id": "piwiwE7YVwwR"
      },
      "execution_count": null,
      "outputs": []
    }
  ]
}