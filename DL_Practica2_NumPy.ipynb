{
  "cells": [
    {
      "cell_type": "markdown",
      "metadata": {
        "id": "gwuO_2qjhbcS"
      },
      "source": [
        "# Practica 2 - MNist con NumPy"
      ]
    },
    {
      "cell_type": "markdown",
      "metadata": {
        "id": "QToFwRDAOQll"
      },
      "source": [
        "## Usando Numpy con MNist\n",
        "\n",
        "MNist es un popular conjunto de datos que contiene imágenes de dígitos del 0-9 escritos a mano. Las imágenes en el conjunto están compuestas por 28x28 pixeles, cada pixel representa un tono en una escala de grises siendo 0 el valor más luminoso y 255 el valor más oscuro.\n",
        "\n",
        "Unos ejemplos de las imágenes en MNist:\n",
        "\n",
        "![alt text](https://upload.wikimedia.org/wikipedia/commons/2/27/MnistExamples.png)"
      ]
    },
    {
      "cell_type": "markdown",
      "metadata": {
        "id": "IKNPtF2Z_BgB"
      },
      "source": [
        "Ejecuta la siguiente celda para importar las librerías utilizadas durante la notebook."
      ]
    },
    {
      "cell_type": "code",
      "execution_count": null,
      "metadata": {
        "id": "M_YPfZtiMBZH"
      },
      "outputs": [],
      "source": [
        "import numpy as np\n",
        "from matplotlib import pyplot as plt"
      ]
    },
    {
      "cell_type": "markdown",
      "metadata": {
        "id": "AHYr9Bml-ovn"
      },
      "source": [
        "Una función auxiliar ```display_example``` para visualizar ejemplos en el conjunto de datos MNist.\n",
        "\n",
        "*Nota: No olvides ejecutar la celda*"
      ]
    },
    {
      "cell_type": "code",
      "execution_count": null,
      "metadata": {
        "id": "9SYL3xduRMnA"
      },
      "outputs": [],
      "source": [
        "def display_example(x, example_width=None):\n",
        "    \"\"\"Muestra un ejemplo en forma 1D como una imagen\"\"\"\n",
        "    # Compute rows, cols\n",
        "    if x.ndim == 1:\n",
        "        n = x.size\n",
        "        m = 1\n",
        "        x = x[None]  # Promote to a 2 dimensional array\n",
        "    else:\n",
        "        raise IndexError('Input x should be 1 dimensional.')\n",
        "\n",
        "    example_width = example_width or int(np.round(np.sqrt(n)))\n",
        "    example_height = n // example_width\n",
        "\n",
        "    plt.imshow(x[0].reshape(example_height, example_width),\n",
        "                        cmap='Greys', extent=[0, 1, 0, 1])\n",
        "    plt.show()"
      ]
    },
    {
      "cell_type": "markdown",
      "metadata": {
        "id": "GXfxMAENRUnG"
      },
      "source": [
        "## Cargando los datos usando Numpy\n",
        "\n",
        "Usarémos la función ```loadtxt``` para cargar una versión de MNist que está en nuestra máquina asignada por colab."
      ]
    },
    {
      "cell_type": "code",
      "execution_count": null,
      "metadata": {
        "id": "Vp4FZPSsL9Uo",
        "colab": {
          "base_uri": "https://localhost:8080/"
        },
        "outputId": "7266894f-78be-4475-bdaa-393ddf8bd403"
      },
      "outputs": [
        {
          "output_type": "execute_result",
          "data": {
            "text/plain": [
              "array([[6., 0., 0., ..., 0., 0., 0.],\n",
              "       [5., 0., 0., ..., 0., 0., 0.],\n",
              "       [7., 0., 0., ..., 0., 0., 0.],\n",
              "       ...,\n",
              "       [2., 0., 0., ..., 0., 0., 0.],\n",
              "       [9., 0., 0., ..., 0., 0., 0.],\n",
              "       [5., 0., 0., ..., 0., 0., 0.]])"
            ]
          },
          "metadata": {},
          "execution_count": 3
        }
      ],
      "source": [
        "MNist = np.loadtxt(\"sample_data/mnist_train_small.csv\", delimiter=',')\n",
        "MNist"
      ]
    },
    {
      "cell_type": "markdown",
      "metadata": {
        "id": "_6oj2tJs8a2c"
      },
      "source": [
        "El conjunto de datos MNist en Colab está formado por imágenes de ejemplo. Cada ejemplo en el conjunto es una fila en el arreglo de NumPy.\n",
        "\n",
        "Cada ejemplo (fila) es un arreglo con $785$ elementos, el primer elemento es la etiqueta del dígito (un entero de $0$ a $9$). El resto de los elementos ($784$) son los pixeles de la imágen ($28\\times28 = 784$)."
      ]
    },
    {
      "cell_type": "code",
      "source": [
        "print(MNist.shape)\n",
        "print(MNist.size)"
      ],
      "metadata": {
        "colab": {
          "base_uri": "https://localhost:8080/"
        },
        "id": "1DQPdIWvw57O",
        "outputId": "8128593a-dfd9-4175-8174-4a6eadaa27d9"
      },
      "execution_count": null,
      "outputs": [
        {
          "output_type": "stream",
          "name": "stdout",
          "text": [
            "(20000, 785)\n",
            "15700000\n"
          ]
        }
      ]
    },
    {
      "cell_type": "markdown",
      "metadata": {
        "id": "pjTayKkEWn2d"
      },
      "source": [
        "## ¿Cuántos ejemplos (filas) tenemos en el conjunto de datos?\n",
        "\n",
        "Utiliza NumPy para calcular el número de filas en el set de datos, rellena el código para guardar el valor en la variable ```m```."
      ]
    },
    {
      "cell_type": "code",
      "execution_count": null,
      "metadata": {
        "id": "fdgCOUGsW38Z",
        "colab": {
          "base_uri": "https://localhost:8080/"
        },
        "outputId": "b7cac236-36c2-40a5-e444-5e64aceb4462"
      },
      "outputs": [
        {
          "output_type": "stream",
          "name": "stdout",
          "text": [
            "El set de datos contiene  20000  ejemplos.\n"
          ]
        }
      ],
      "source": [
        "m = MNist.shape[0]#<rellena>\n",
        "print(\"El set de datos contiene \", m, \" ejemplos.\")"
      ]
    },
    {
      "cell_type": "markdown",
      "metadata": {
        "id": "2dPBaPSfUXbu"
      },
      "source": [
        "## Separando los datos.\n",
        "\n",
        "En la siguiente celda, deberás completar el código para separar el conjunto de datos en dos, un conjunto ```X``` que contendrá únicamente los pixeles de las imágenes y un conjunto ```y``` que contendrá las etiquetas asociadas al número que está en la imágen.\n",
        "\n",
        "Utiliza slicing con NumPy para seleccionar los elementos adecuados."
      ]
    },
    {
      "cell_type": "code",
      "execution_count": null,
      "metadata": {
        "id": "B-q6bwbmUtpA"
      },
      "outputs": [],
      "source": [
        "X = MNist[:,1:]# <completa>\n",
        "y = MNist[:,0]# <completa>"
      ]
    },
    {
      "cell_type": "markdown",
      "metadata": {
        "id": "44ZF3RSG_sar"
      },
      "source": [
        "Comprueba ejecutando la siguiente celda:"
      ]
    },
    {
      "cell_type": "code",
      "execution_count": null,
      "metadata": {
        "id": "AbPJnku-_akV",
        "colab": {
          "base_uri": "https://localhost:8080/"
        },
        "outputId": "3e23adba-f02b-4b3f-fc06-fe3cd6e0415a"
      },
      "outputs": [
        {
          "output_type": "stream",
          "name": "stdout",
          "text": [
            "X.shape: (20000, 784)\n",
            "y.shape: (20000,)\n",
            "\n",
            "X= [[0. 0. 0. ... 0. 0. 0.]\n",
            " [0. 0. 0. ... 0. 0. 0.]\n",
            " [0. 0. 0. ... 0. 0. 0.]\n",
            " ...\n",
            " [0. 0. 0. ... 0. 0. 0.]\n",
            " [0. 0. 0. ... 0. 0. 0.]\n",
            " [0. 0. 0. ... 0. 0. 0.]]\n",
            "\n",
            "y= [6. 5. 7. ... 2. 9. 5.]\n"
          ]
        }
      ],
      "source": [
        "assert y.shape == (20000,) and X.shape == (20000, 784), \"Error en las dimensiones de X o y\"\n",
        "print(\"X.shape:\", X.shape)\n",
        "print(\"y.shape:\", y.shape)\n",
        "print(\"\\nX=\", X)\n",
        "print(\"\\ny=\", y)"
      ]
    },
    {
      "cell_type": "markdown",
      "source": [
        "#Obtener un subconjunto de datos de entrenamiento (Xtrain) equivalente al 80% de los datos de X."
      ],
      "metadata": {
        "id": "IO7PJAuTSkYP"
      }
    },
    {
      "cell_type": "code",
      "source": [
        "import random\n",
        "\n",
        "np.random.seed(1)\n",
        "indices80=np.random.choice(MNist.shape[0], int(len(MNist)*0.8), replace=False)\n",
        "Xtrain = X[indices80]\n",
        "ytrain = y[indices80]\n",
        "print(Xtrain.shape)\n",
        "print(ytrain.shape)"
      ],
      "metadata": {
        "colab": {
          "base_uri": "https://localhost:8080/"
        },
        "id": "S_-7-n-oSpH3",
        "outputId": "651277aa-1ba9-4813-e5f9-19287efa23d2"
      },
      "execution_count": null,
      "outputs": [
        {
          "output_type": "stream",
          "name": "stdout",
          "text": [
            "(16000, 784)\n",
            "(16000,)\n"
          ]
        }
      ]
    },
    {
      "cell_type": "markdown",
      "source": [
        "# Obtener el subconjunto de datos de prueba (Xtest) restantes (20%)"
      ],
      "metadata": {
        "id": "tGK1BD-PT4j-"
      }
    },
    {
      "cell_type": "code",
      "source": [
        "indices20 = list(set(range(len(X)))-set(indices80))\n",
        "Xtest = X[indices20]\n",
        "ytest = y[indices20]\n",
        "print(Xtest.shape)\n",
        "print(ytest.shape)"
      ],
      "metadata": {
        "colab": {
          "base_uri": "https://localhost:8080/"
        },
        "id": "1gsZcOGvUCmN",
        "outputId": "ee52bb33-8000-44f5-b6b1-85ffe91f70fb"
      },
      "execution_count": null,
      "outputs": [
        {
          "output_type": "stream",
          "name": "stdout",
          "text": [
            "(4000, 784)\n",
            "(4000,)\n"
          ]
        }
      ]
    },
    {
      "cell_type": "markdown",
      "metadata": {
        "id": "AjMIaWVIUDLq"
      },
      "source": [
        "## Visualizando las imágenes en el set de datos\n",
        "\n",
        "Usemos la función auxiliar display_example para visualizar los ejemplos en el set de datos. Intentar cambiar el valor de ```i``` para mostrar una ejemplo distinto."
      ]
    },
    {
      "cell_type": "code",
      "execution_count": null,
      "metadata": {
        "id": "J1M_emH_RTaX",
        "colab": {
          "base_uri": "https://localhost:8080/",
          "height": 453
        },
        "outputId": "310d4671-153d-4af2-c2f7-82e648b64c34"
      },
      "outputs": [
        {
          "output_type": "display_data",
          "data": {
            "text/plain": [
              "<Figure size 640x480 with 1 Axes>"
            ],
            "image/png": "[encoded data removed]"
          },
          "metadata": {}
        },
        {
          "output_type": "stream",
          "name": "stdout",
          "text": [
            "Imágen con etiqueta:  5.0\n"
          ]
        }
      ],
      "source": [
        "#puedes cambiar el valor de i\n",
        "i = 19999\n",
        "\n",
        "example = X[i]\n",
        "example_label = y[i]\n",
        "display_example(example)\n",
        "print(\"Imágen con etiqueta: \", example_label)"
      ]
    },
    {
      "cell_type": "markdown",
      "metadata": {
        "id": "KncyFgv4apeS"
      },
      "source": [
        "## Contando el número de ejemplos para cada \"clase\"\n",
        "\n",
        "Rellena la función ```count_class_examples()``` para imprimir el número de ejemplos de cada etiqueta en el set de datos. Esto es, el número de ceros, de unos, dos, ..., nueves.\n",
        "\n",
        "Para MNist las etiquetas $y \\in \\{0, 1, 2, \\dots, 9\\}$"
      ]
    },
    {
      "cell_type": "code",
      "execution_count": null,
      "metadata": {
        "id": "5DXr5BVpMvy7"
      },
      "outputs": [],
      "source": [
        "def count_class_examples(y):\n",
        "  \"\"\"Imprime el numero de ejemplos para cada clase en y.\n",
        "\n",
        "  Argumentos\n",
        "  y - arreglos de numpy que contiene etiquetas\n",
        "  \"\"\"\n",
        "\n",
        "  for i in range(10):\n",
        "    count = np.count_nonzero(y == i)# <completa>\n",
        "    print(\"Numero de \", i, count)"
      ]
    },
    {
      "cell_type": "code",
      "execution_count": null,
      "metadata": {
        "id": "cetXv0aueKOe",
        "colab": {
          "base_uri": "https://localhost:8080/"
        },
        "outputId": "aa887a71-dc96-4033-f877-eb1996e96b92"
      },
      "outputs": [
        {
          "output_type": "stream",
          "name": "stdout",
          "text": [
            "Numero de  0 1962\n",
            "Numero de  1 2243\n",
            "Numero de  2 1989\n",
            "Numero de  3 2021\n",
            "Numero de  4 1924\n",
            "Numero de  5 1761\n",
            "Numero de  6 2039\n",
            "Numero de  7 2126\n",
            "Numero de  8 1912\n",
            "Numero de  9 2023\n"
          ]
        }
      ],
      "source": [
        "count_class_examples(y)"
      ]
    },
    {
      "cell_type": "markdown",
      "source": [
        "Otra forma de hacerlo es:"
      ],
      "metadata": {
        "id": "SKuJgpTl1BAp"
      }
    },
    {
      "cell_type": "code",
      "source": [
        "def count_class_examples(y):\n",
        "  \"\"\"Imprime el numero de ejemplos para cada clase en y.\n",
        "\n",
        "  Argumentos\n",
        "  y - arreglos de numpy que contiene etiquetas\n",
        "  \"\"\"\n",
        "  count=[]\n",
        "  for i in range(10):\n",
        "    #count = np.sum(y==i)\n",
        "    count.append(np.sum(y==i))\n",
        "    #print(\"Numero de \", i, count)\n",
        "  return count"
      ],
      "metadata": {
        "id": "oR85GOR71DS5"
      },
      "execution_count": null,
      "outputs": []
    },
    {
      "cell_type": "code",
      "source": [
        "conteo = count_class_examples(y)\n",
        "#print(conteo)\n",
        "for i, w in enumerate(conteo):\n",
        "  print(\"Número de \", i, w)\n",
        "print(np.sum(conteo))"
      ],
      "metadata": {
        "colab": {
          "base_uri": "https://localhost:8080/"
        },
        "id": "rWk-xl7H1F7B",
        "outputId": "3b1e18db-2bb9-4b38-8800-16ca8e75326a"
      },
      "execution_count": null,
      "outputs": [
        {
          "output_type": "stream",
          "name": "stdout",
          "text": [
            "Número de  0 1962\n",
            "Número de  1 2243\n",
            "Número de  2 1989\n",
            "Número de  3 2021\n",
            "Número de  4 1924\n",
            "Número de  5 1761\n",
            "Número de  6 2039\n",
            "Número de  7 2126\n",
            "Número de  8 1912\n",
            "Número de  9 2023\n",
            "20000\n"
          ]
        }
      ]
    },
    {
      "cell_type": "markdown",
      "metadata": {
        "id": "F_bF-YXHfY8p"
      },
      "source": [
        "## Calcula el arreglo representativo para cada clase\n",
        "\n",
        "Utiliza Numpy para encontrar el arreglo representativo promediando los arreglos para cada clase. Rellena la función ``` class_means``` para que devuelva un arreglo de NumPy que contenga en cada fila el arreglo promedio de los respectivos ejemplos (del dígito 0 al 9)."
      ]
    },
    {
      "cell_type": "code",
      "execution_count": null,
      "metadata": {
        "id": "IMTD35bOFGg_"
      },
      "outputs": [],
      "source": [
        "\"\"\"\n",
        "def class_means(X, y):\n",
        "\n",
        "  #Calcula el arreglo promedio (representativo) de cada clase\n",
        "\n",
        "  # Numero de ejemplos (filas)\n",
        "  m = X.shape[0]\n",
        "  # Numero de features (columnas)\n",
        "  n = X.shape[1]\n",
        "  # Clases distintas en el set\n",
        "  ulabels = np.unique(y)\n",
        "  # Numero de clases\n",
        "  classes = ulabels.size\n",
        "  # Rellena means con el arreglo promedio de cada clase\n",
        "  means = np.empty((classes, n))\n",
        "\"\"\"\n",
        "def class_means(X, y):\n",
        "  \"\"\"\n",
        "  Calcula el arreglo promedio (representativo) de cada clase\n",
        "  \"\"\"\n",
        "  # Numero de ejemplos (filas)\n",
        "  m = X.shape[0]\n",
        "  # Numero de features (columnas)\n",
        "  n = X.shape[1]\n",
        "  # Clases distintas en el set\n",
        "  ulabels = np.unique(y)\n",
        "  # Numero de clases\n",
        "  classes = ulabels.size\n",
        "\n",
        "  # Rellena means con el arreglo promedio de cada clase\n",
        "  means = np.empty((classes, n))\n",
        "\n",
        "  for i in range(classes):\n",
        "    #means[i,:] = # <completa>\n",
        "    means[i,:] = np.mean(X[y == ulabels[i]], axis =0) # <completa>\n",
        "\n",
        "  return means"
      ]
    },
    {
      "cell_type": "code",
      "execution_count": null,
      "metadata": {
        "id": "Nupjyy3kBatD",
        "colab": {
          "base_uri": "https://localhost:8080/"
        },
        "collapsed": true,
        "outputId": "5a008801-fbc0-4eae-a682-a6e53312b354"
      },
      "outputs": [
        {
          "output_type": "execute_result",
          "data": {
            "text/plain": [
              "(10, 784)"
            ]
          },
          "metadata": {},
          "execution_count": 62
        }
      ],
      "source": [
        "class_representatives = class_means(Xtrain, ytrain)\n",
        "\n",
        "#shape del arreglo que contiene los representativos\n",
        "class_representatives.shape"
      ]
    },
    {
      "cell_type": "code",
      "execution_count": null,
      "metadata": {
        "id": "bK4wRko_obDb",
        "colab": {
          "base_uri": "https://localhost:8080/"
        },
        "outputId": "8a0aebd3-5d8f-46d8-bc8b-4ca2c2768495"
      },
      "outputs": [
        {
          "output_type": "stream",
          "name": "stdout",
          "text": [
            "Funcion clas_means es correcta\n"
          ]
        }
      ],
      "source": [
        "assert np.array_equal(class_means(np.array([[4, 6], [2, 4], [10, 4], [2, 6]]), np.array([1, 2, 1, 2])), np.array([[7, 5], [2, 5]])), \"Error\"\n",
        "assert class_representatives.shape == (10, 784), \"Error en las dimensiones de class_representatives\"\n",
        "print(\"Funcion clas_means es correcta\")"
      ]
    },
    {
      "cell_type": "markdown",
      "metadata": {
        "id": "qQjZYBzZFckR"
      },
      "source": [
        "Utiliza la función ```display_example``` para mostrar el ejemplo promedio de la clase (para cada clase)."
      ]
    },
    {
      "cell_type": "code",
      "execution_count": null,
      "metadata": {
        "id": "mcnZre4CBhIl",
        "colab": {
          "base_uri": "https://localhost:8080/",
          "height": 1000
        },
        "collapsed": true,
        "outputId": "a4590ddf-d9e8-42e2-9dde-cf5585df2be8"
      },
      "outputs": [
        {
          "output_type": "display_data",
          "data": {
            "text/plain": [
              "<Figure size 640x480 with 1 Axes>"
            ],
            "image/png": "[encoded data removed]"
          },
          "metadata": {}
        },
        {
          "output_type": "display_data",
          "data": {
            "text/plain": [
              "<Figure size 640x480 with 1 Axes>"
            ],
            "image/png": "[encoded data removed]"
          },
          "metadata": {}
        },
        {
          "output_type": "display_data",
          "data": {
            "text/plain": [
              "<Figure size 640x480 with 1 Axes>"
            ],
            "image/png": "[encoded data removed]"
          },
          "metadata": {}
        },
        {
          "output_type": "display_data",
          "data": {
            "text/plain": [
              "<Figure size 640x480 with 1 Axes>"
            ],
            "image/png": "[encoded data removed]"
          },
          "metadata": {}
        },
        {
          "output_type": "display_data",
          "data": {
            "text/plain": [
              "<Figure size 640x480 with 1 Axes>"
            ],
            "image/png": "[encoded data removed]"
          },
          "metadata": {}
        },
        {
          "output_type": "display_data",
          "data": {
            "text/plain": [
              "<Figure size 640x480 with 1 Axes>"
            ],
            "image/png": "[encoded data removed]"
          },
          "metadata": {}
        },
        {
          "output_type": "display_data",
          "data": {
            "text/plain": [
              "<Figure size 640x480 with 1 Axes>"
            ],
            "image/png": "[encoded data removed]"
          },
          "metadata": {}
        },
        {
          "output_type": "display_data",
          "data": {
            "text/plain": [
              "<Figure size 640x480 with 1 Axes>"
            ],
            "image/png": "[encoded data removed]"
          },
          "metadata": {}
        },
        {
          "output_type": "display_data",
          "data": {
            "text/plain": [
              "<Figure size 640x480 with 1 Axes>"
            ],
            "image/png": "[encoded data removed]"
          },
          "metadata": {}
        },
        {
          "output_type": "display_data",
          "data": {
            "text/plain": [
              "<Figure size 640x480 with 1 Axes>"
            ],
            "image/png": "[encoded data removed]"
          },
          "metadata": {}
        }
      ],
      "source": [
        "for i in range(10):\n",
        "  display_example(class_representatives[i])"
      ]
    },
    {
      "cell_type": "markdown",
      "metadata": {
        "id": "jaemlIYPEbIt"
      },
      "source": [
        "## Clasificador de dígitos usando distancias\n",
        "\n",
        "En esta sección, generaremos un modelo para identificar dígitos mediante el uso de distancias euclidianas. Calcularemos la distancia entre cada ejemplo en el conjunto y los dígitos representativos de cada clase (el valor promedio de cada clase). Le asignaremos a cada ejemplo la etiqueta del dígito representativo con menor distancia."
      ]
    },
    {
      "cell_type": "markdown",
      "metadata": {
        "id": "hCh7PfLgFDWx"
      },
      "source": [
        "### Distancia Euclidiana\n",
        "\n",
        "En la siguiente celda, rellena la función ```euclidean_distance``` para calcular la distancia euclidiana entre los puntos P y Q.\n",
        "\n",
        "La distancia euclidiana entre dos puntos P y Q en un espacio n-dimesional es:\n",
        "\n",
        "$$d_e(P, Q) = \\sqrt{(p_1 - q_1)^2+(p_2-q_2)^2 + \\dots+(p_n-q_n)^2} = \\sqrt{\\sum_{i=1}^{n}(p_i-q_i)^2} $$"
      ]
    },
    {
      "cell_type": "code",
      "execution_count": null,
      "metadata": {
        "id": "thU_Ff2AEWac"
      },
      "outputs": [],
      "source": [
        "def euclidean_distance(P, Q):\n",
        "  \"\"\"\n",
        "  Calcula la distancia euclidiana entre los elementos de P y Q\n",
        "  \"\"\"\n",
        "# e_distance = # <completa>\n",
        "  e_distance = np.sqrt(np.sum((P-Q)**2,axis=1))\n",
        "  return e_distance\n",
        "\n",
        "def euclidean_distance_for(P, Q):\n",
        "  \"\"\"\n",
        "  Calcula la distancia euclidiana entre los elementos de P y Q\n",
        "  \"\"\"\n",
        "  if P.ndim > 1:\n",
        "    P = P[0]\n",
        "  if Q.ndim > 1:\n",
        "    Q = Q[0]\n",
        "\n",
        "  e_distance = 0\n",
        "  for i in range(len(P)):\n",
        "    e_distance += (P[i]-Q[i])**2\n",
        "  e_distance = np.sqrt(e_distance)\n",
        "  return e_distance\n",
        "# e_distance = # <completa>\n",
        "\n",
        "#  e_distance = np.sqrt(np.sum((P-Q)**2))\n",
        "#  return e_distance\n"
      ]
    },
    {
      "cell_type": "code",
      "execution_count": null,
      "metadata": {
        "id": "KQC1XSUEefxr",
        "colab": {
          "base_uri": "https://localhost:8080/"
        },
        "outputId": "9fd14a8e-1bba-49fc-a845-ca922858246e"
      },
      "outputs": [
        {
          "output_type": "stream",
          "name": "stdout",
          "text": [
            "[3. 3. 3. 3. 3. 3. 3. 3. 3. 3.]\n",
            "3.0\n"
          ]
        }
      ],
      "source": [
        "a = np.array([[1, 2, 3]])\n",
        "b = np.array([[3, 3, 5],[3, 3, 5],[3, 3, 5],[3, 3, 5],[3, 3, 5],[3, 3, 5],[3, 3, 5],[3, 3, 5],[3, 3, 5],[3, 3, 5]])\n",
        "print(euclidean_distance(a, b))\n",
        "print(euclidean_distance_for(a, b))"
      ]
    },
    {
      "cell_type": "code",
      "execution_count": null,
      "metadata": {
        "id": "oqsvgC5HcprY"
      },
      "outputs": [],
      "source": [
        "assert euclidean_distance(np.array([[1, 2, 3]]), np.array([[3, 3, 5]]))[0] == 3.0, \"Error en euclidean_distance\""
      ]
    },
    {
      "cell_type": "markdown",
      "metadata": {
        "id": "g_Z1b1-gBWiY"
      },
      "source": [
        "## Obten el representante más cercano para cada ejemplo\n",
        "\n",
        "Rellena la función ```closest_point``` para asignar a cada ejemplo la etiqueta del dígito más cercano según su distancia al arreglo representativo.\n",
        "\n",
        "*¿Puedes hacerlo con 2, 1 o ningún ciclo for?*"
      ]
    },
    {
      "cell_type": "code",
      "execution_count": null,
      "metadata": {
        "id": "xsxSqA2UjTBQ"
      },
      "outputs": [],
      "source": [
        "def closest_point(X, representatives):\n",
        "  \"\"\"\n",
        "  Devuelve un arreglo con la etiqueta del elemento mas cercano\n",
        "  para cada ejemplo en X\n",
        "\n",
        "  X -  el arreglo con los ejemplos\n",
        "  representatives - el arreglo con los elementos representativos de cada clase\n",
        "  \"\"\"\n",
        "  # Numero de ejemplos (filas)\n",
        "  m = X.shape[0]\n",
        "  # Numero de features (columnas)\n",
        "  n = X.shape[1]\n",
        "  # Numero de clases\n",
        "  classes = representatives.shape[0]\n",
        "\n",
        "  # Distancias minimas\n",
        "  min_distances = np.full(m, np.inf)\n",
        "  # El indice de la mejor distancia\n",
        "  best = np.zeros((X.shape[0]), dtype=np.int8)\n",
        "  \"\"\"\n",
        "Para cada ejemplo en X:\n",
        "1. Calcular la distancia del ejemplo a todos los vectores representativos\n",
        "2. Guardar los valores de distancia en un arreglo (10 valores)\n",
        "3. Obtener el índice del valor mínimo\n",
        "4. Guardar el índice en la lista que se devolverá al final\n",
        "\n",
        "Al final, la lista contiene los valores de la clase cuyo centroide es el más cercano a cada ejemplo\n",
        "  \"\"\"\n",
        "  # <rellena>\n",
        "  for i,x in enumerate(X):\n",
        "    best[i]=np.argmin(euclidean_distance(x,representatives))\n",
        "  return best"
      ]
    },
    {
      "cell_type": "code",
      "source": [
        "print(euclidean_distance(X[0],class_representatives))"
      ],
      "metadata": {
        "colab": {
          "base_uri": "https://localhost:8080/"
        },
        "id": "icMj7ixDJivV",
        "outputId": "011ba7df-9547-4ef6-e6a5-79efc81b69eb"
      },
      "execution_count": null,
      "outputs": [
        {
          "output_type": "stream",
          "name": "stdout",
          "text": [
            "[2267.58876959 2376.39653221 2099.9591202  2404.03724386 2210.90138728\n",
            " 2341.36789856 2226.21926406 2325.04672753 2271.99998542 2329.20568008]\n"
          ]
        }
      ]
    },
    {
      "cell_type": "code",
      "source": [
        "print(class_representatives.shape)\n",
        "print(X[0].shape)"
      ],
      "metadata": {
        "colab": {
          "base_uri": "https://localhost:8080/"
        },
        "id": "Mu8TWcVhMpRd",
        "outputId": "48a9d914-ef0b-4a39-853d-a4f4ec8f6a45"
      },
      "execution_count": null,
      "outputs": [
        {
          "output_type": "stream",
          "name": "stdout",
          "text": [
            "(10, 784)\n",
            "(784,)\n"
          ]
        }
      ]
    },
    {
      "cell_type": "code",
      "execution_count": null,
      "metadata": {
        "id": "EioV2HZmH1Z-"
      },
      "outputs": [],
      "source": [
        "y_pred = closest_point(Xtest, class_representatives)"
      ]
    },
    {
      "cell_type": "code",
      "execution_count": null,
      "metadata": {
        "id": "LAICdMHqH8tj",
        "colab": {
          "base_uri": "https://localhost:8080/",
          "height": 147
        },
        "outputId": "c2ed9c53-93eb-4b80-9834-4c1f8bb4c898"
      },
      "outputs": [
        {
          "output_type": "error",
          "ename": "AssertionError",
          "evalue": "Error en las dimensiones de y_pred",
          "traceback": [
            "\u001b[0;31m---------------------------------------------------------------------------\u001b[0m",
            "\u001b[0;31mAssertionError\u001b[0m                            Traceback (most recent call last)",
            "\u001b[0;32m<ipython-input-71-a357da93a898>\u001b[0m in \u001b[0;36m<cell line: 0>\u001b[0;34m()\u001b[0m\n\u001b[0;32m----> 1\u001b[0;31m \u001b[0;32massert\u001b[0m \u001b[0my_pred\u001b[0m\u001b[0;34m.\u001b[0m\u001b[0mshape\u001b[0m \u001b[0;34m==\u001b[0m \u001b[0;34m(\u001b[0m\u001b[0;36m20000\u001b[0m\u001b[0;34m,\u001b[0m\u001b[0;34m)\u001b[0m \u001b[0;32mor\u001b[0m \u001b[0my_pred\u001b[0m\u001b[0;34m.\u001b[0m\u001b[0mshape\u001b[0m \u001b[0;34m==\u001b[0m \u001b[0;34m(\u001b[0m\u001b[0;36m20000\u001b[0m\u001b[0;34m)\u001b[0m\u001b[0;34m,\u001b[0m \u001b[0;34m\"Error en las dimensiones de y_pred\"\u001b[0m\u001b[0;34m\u001b[0m\u001b[0;34m\u001b[0m\u001b[0m\n\u001b[0m",
            "\u001b[0;31mAssertionError\u001b[0m: Error en las dimensiones de y_pred"
          ]
        }
      ],
      "source": [
        "assert y_pred.shape == (20000,) or y_pred.shape == (20000), \"Error en las dimensiones de y_pred\""
      ]
    },
    {
      "cell_type": "code",
      "source": [
        "print(y_pred)"
      ],
      "metadata": {
        "colab": {
          "base_uri": "https://localhost:8080/"
        },
        "id": "RPRAdlmEIq1h",
        "outputId": "833ae3e0-18ad-41c0-b34c-195d568343fd"
      },
      "execution_count": null,
      "outputs": [
        {
          "output_type": "stream",
          "name": "stdout",
          "text": [
            "[8 8 2 ... 1 8 5]\n"
          ]
        }
      ]
    },
    {
      "cell_type": "markdown",
      "metadata": {
        "id": "zdSzZo8WHUxd"
      },
      "source": [
        "## Visualiza las predicciones"
      ]
    },
    {
      "cell_type": "code",
      "execution_count": null,
      "metadata": {
        "id": "0SsGlu2uHzFF",
        "colab": {
          "base_uri": "https://localhost:8080/",
          "height": 453
        },
        "outputId": "8378a595-2ee5-4327-c203-735ffe541744"
      },
      "outputs": [
        {
          "output_type": "display_data",
          "data": {
            "text/plain": [
              "<Figure size 640x480 with 1 Axes>"
            ],
            "image/png": "[encoded data removed]"
          },
          "metadata": {}
        },
        {
          "output_type": "stream",
          "name": "stdout",
          "text": [
            "Imágen con etiqueta:  0.0  modelo dice: 5\n"
          ]
        }
      ],
      "source": [
        "#intenta cambiar el valor de i\n",
        "i = 109\n",
        "\n",
        "example = X[i]\n",
        "pred_label = y_pred[i]\n",
        "true_label = y[i]\n",
        "display_example(example)\n",
        "print(\"Imágen con etiqueta: \", true_label, \" modelo dice:\", pred_label)"
      ]
    },
    {
      "cell_type": "markdown",
      "metadata": {
        "id": "wx9HvySkHQWW"
      },
      "source": [
        "## Evaluando el clasificador\n",
        "\n",
        "Una vez que tienes un modelo, debes evaluarlo para saber que tan bien (o mal) está haciendo su trabajo. Para el modelo clasificador de dígitos, usaremos una métrica típica de evaluación."
      ]
    },
    {
      "cell_type": "markdown",
      "metadata": {
        "id": "qCLIrbVuItef"
      },
      "source": [
        "## Exactitúd (Accuracy)\n",
        "\n",
        "La exactitúd o accuracy mide el rendimiento general del modelo.\n",
        "\n",
        "Utiliza la siguiente fórmula para completar la función ```accuracy``` para medir el rendimiento del modelo de clasificación de dígitos:\n",
        "\n",
        "$$\\texttt{accuracy}(y, \\hat{y}) = \\frac{1}{m} \\sum_{i=0}^{m-1} 1(\\hat{y}_i = y_i)$$\n",
        "\n",
        "$$ 1(\\hat{y}_i = y_i) = 1 \\quad \\text{cuando} \\quad \\hat{y}_i = y_i$$\n",
        "\n",
        "$$ 1(\\hat{y}_i = y_i) = 0 \\quad \\text{cuando} \\quad \\hat{y}_i \\neq y_i$$\n",
        "\n",
        "$$m \\quad \\text{es el número de ejemplos}$$"
      ]
    },
    {
      "cell_type": "code",
      "execution_count": null,
      "metadata": {
        "id": "_MeQoOaYItol"
      },
      "outputs": [],
      "source": [
        "def accuracy(y, y_pred):\n",
        "  \"\"\"\n",
        "  Devuelve la exactitud dados dos vectores \"y\" con la verdad\n",
        "  y \"y_pred\" con las predicciones\n",
        "  \"\"\"\n",
        "  iguales = np.where(y==y_pred)[0]\n",
        "  acc = iguales.size/y.size*100\n",
        "  return acc"
      ]
    },
    {
      "cell_type": "code",
      "execution_count": null,
      "metadata": {
        "id": "f-aY9tZ0bh1H",
        "colab": {
          "base_uri": "https://localhost:8080/"
        },
        "outputId": "8e4a9c45-21da-40d2-9175-ed5a4f246325"
      },
      "outputs": [
        {
          "output_type": "stream",
          "name": "stdout",
          "text": [
            "81.5 %\n"
          ]
        }
      ],
      "source": [
        "print(accuracy(ytest, y_pred), '%')"
      ]
    },
    {
      "cell_type": "markdown",
      "metadata": {
        "id": "ecFa1uuuJ_G-"
      },
      "source": [
        "¿Consideras que el modelo es bueno para predecir dígitos escritos a mano?, ¿crees que hay margen de mejora?"
      ]
    }
  ],
  "metadata": {
    "colab": {
      "provenance": []
    },
    "kernelspec": {
      "display_name": "Python 3 (ipykernel)",
      "language": "python",
      "name": "python3"
    },
    "language_info": {
      "codemirror_mode": {
        "name": "ipython",
        "version": 3
      },
      "file_extension": ".py",
      "mimetype": "text/x-python",
      "name": "python",
      "nbconvert_exporter": "python",
      "pygments_lexer": "ipython3",
      "version": "3.9.13"
    }
  },
  "nbformat": 4,
  "nbformat_minor": 0
}